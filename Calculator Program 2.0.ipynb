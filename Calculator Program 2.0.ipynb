{
 "cells": [
  {
   "cell_type": "code",
   "execution_count": 1,
   "id": "20109eea-73f5-4531-a5c1-8b3253a3eb70",
   "metadata": {},
   "outputs": [],
   "source": [
    "import math"
   ]
  },
  {
   "cell_type": "code",
   "execution_count": 3,
   "id": "13ca6b27-8688-40c0-a3df-201eb79c7725",
   "metadata": {},
   "outputs": [],
   "source": [
    "class Calculator:\n",
    "    def __init__(self):\n",
    "         # Initialize the dictionary with basic operations\n",
    "        self.operations = {\n",
    "            '+': self.add,\n",
    "            '-': self.subtract,\n",
    "            '*': self.multiply,\n",
    "            '/': self.divide\n",
    "        }\n",
    "\n"
   ]
  },
  {
   "cell_type": "code",
   "execution_count": 4,
   "id": "38b2eaea-66db-45a7-81bf-3098022d5396",
   "metadata": {},
   "outputs": [],
   "source": [
    "def add_operation(self, symbol, function):\n",
    "        # Add a new operation to the dictionary\n",
    "        self.operations[symbol] = function\n"
   ]
  },
  {
   "cell_type": "code",
   "execution_count": 5,
   "id": "95ed6d41-e95e-4dc2-84e9-52ae734d329d",
   "metadata": {},
   "outputs": [],
   "source": [
    "def calculate(self, num1, operation, num2):\n",
    "        # Perform the calculation based on the operation symbol\n",
    "        if not isinstance(num1, (int, float)) or not isinstance(num2, (int, float)):\n",
    "            raise ValueError(\"Both inputs must be numbers.\")\n",
    "        \n",
    "        if operation not in self.operations:\n",
    "            raise ValueError(\"Invalid operation. Supported operations are: \" + \", \".join(self.operations.keys()))\n",
    "        \n",
    "        # Perform the operation and return the result\n",
    "        return self.operations[operation](num1, num2)\n",
    "    \n"
   ]
  },
  {
   "cell_type": "code",
   "execution_count": 8,
   "id": "89a39708-b533-491e-a1bd-86b06297a3cf",
   "metadata": {},
   "outputs": [],
   "source": [
    "def add(self, a, b):\n",
    "        return a + b\n",
    "    \n",
    "def subtract(self, a, b):\n",
    "        return a - b\n",
    "    \n",
    "def multiply(self, a, b):\n",
    "        return a * b\n",
    "    \n",
    "def divide(self, a, b):\n",
    "        if b == 0:\n",
    "            raise ValueError(\"Cannot divide by zero.\")\n",
    "        return a / b\n"
   ]
  },
  {
   "cell_type": "code",
   "execution_count": 9,
   "id": "10dff6dc-beab-4e0f-b3a4-c702a293deee",
   "metadata": {},
   "outputs": [],
   "source": [
    "# Advanced mathematical operations\n",
    "def exponentiation(a, b):\n",
    "    return a ** b\n",
    "\n",
    "def square_root(a, _):\n",
    "    return math.sqrt(a)\n",
    "\n",
    "def logarithm(a, base):\n",
    "    if base <= 0 or base == 1:\n",
    "        raise ValueError(\"Base must be greater than 0 and not equal to 1.\")\n",
    "    return math.log(a, base)\n"
   ]
  },
  {
   "cell_type": "code",
   "execution_count": null,
   "id": "7e109038-a350-42c7-a71f-142f393b43f0",
   "metadata": {},
   "outputs": [],
   "source": [
    "# Main program\n",
    "if __name__ == \"__main__\":\n",
    "    calc = Calculator()\n",
    "    \n",
    "# Add advanced operations to the calculator\n",
    "    calc.add_operation('^', exponentiation)\n",
    "    calc.add_operation('sqrt', square_root)\n",
    "    calc.add_operation('log', logarithm)\n",
    "    \n",
    "    while True:\n",
    "        try:\n",
    "            # Get user input\n",
    "            num1 = float(input(\"Enter the first number (or type 'exit' to quit): \"))\n",
    "            operation = input(\"Enter the operation (+, -, *, /, ^, sqrt, log): \")\n",
    "            if operation in ('sqrt', 'log'):\n",
    "                num2 = float(input(\"Enter the second number (or base for log): \"))\n",
    "            else:\n",
    "                num2 = float(input(\"Enter the second number: \"))\n",
    " # Perform the calculation\n",
    "            result = calc.calculate(num1, operation, num2)\n",
    "            print(f\"Result: {result}\")\n",
    "        \n",
    "        except ValueError as e:\n",
    "            print(f\"Error: {e}\")\n",
    "        \n",
    "        except Exception as e:\n",
    "            print(f\"An unexpected error occurred: {e}\")\n",
    "        \n",
    "# Option to exit\n",
    "        again = input(\"Do you want to perform another calculation? (yes/no): \").strip().lower()\n",
    "        if again != 'yes':\n",
    "            print(\"Exiting calculator.\")\n",
    "            break\n",
    "  \n",
    "            "
   ]
  }
 ],
 "metadata": {
  "kernelspec": {
   "display_name": "Python 3 (ipykernel)",
   "language": "python",
   "name": "python3"
  },
  "language_info": {
   "codemirror_mode": {
    "name": "ipython",
    "version": 3
   },
   "file_extension": ".py",
   "mimetype": "text/x-python",
   "name": "python",
   "nbconvert_exporter": "python",
   "pygments_lexer": "ipython3",
   "version": "3.12.4"
  }
 },
 "nbformat": 4,
 "nbformat_minor": 5
}
