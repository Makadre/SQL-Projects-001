{
 "cells": [
  {
   "cell_type": "code",
   "execution_count": 1,
   "id": "02d518fc-6388-408e-9c0c-0b1ebcba92c8",
   "metadata": {},
   "outputs": [
    {
     "name": "stdout",
     "output_type": "stream",
     "text": [
      "Welcome to Python Pizza Deliveries\n"
     ]
    }
   ],
   "source": [
    "# Welcome message\n",
    "print(\"Welcome to Python Pizza Deliveries\")\n"
   ]
  },
  {
   "cell_type": "code",
   "execution_count": 3,
   "id": "72bce7fb-b5ef-4b88-95c1-a1e383bf9a48",
   "metadata": {},
   "outputs": [
    {
     "name": "stdin",
     "output_type": "stream",
     "text": [
      "What size of pizza do you want? S, M, or L:  M\n"
     ]
    }
   ],
   "source": [
    "# Prompt the user for the size of the pizza\n",
    "size = input(\"What size of pizza do you want? S, M, or L: \").upper()\n"
   ]
  },
  {
   "cell_type": "code",
   "execution_count": 4,
   "id": "55f7e092-c7c7-4f98-bd8e-9b1fe67caa03",
   "metadata": {},
   "outputs": [
    {
     "name": "stdin",
     "output_type": "stream",
     "text": [
      "Do you want to add pepperoni? Y or N:  Y\n"
     ]
    }
   ],
   "source": [
    "# Prompt the user if they want pepperoni\n",
    "add_pepperoni = input(\"Do you want to add pepperoni? Y or N: \").upper()\n",
    "\n"
   ]
  },
  {
   "cell_type": "code",
   "execution_count": 5,
   "id": "2e1954df-5bf1-4ff2-856d-87d59ef0476f",
   "metadata": {},
   "outputs": [
    {
     "name": "stdin",
     "output_type": "stream",
     "text": [
      "Do you want extra cheese? Y or N:  Y\n"
     ]
    }
   ],
   "source": [
    "# Prompt the user if they want extra cheese\n",
    "extra_cheese = input(\"Do you want extra cheese? Y or N: \").upper()\n",
    "\n"
   ]
  },
  {
   "cell_type": "code",
   "execution_count": 6,
   "id": "472e2475-b6fe-4b79-8ceb-6e8ed9d9cfc3",
   "metadata": {},
   "outputs": [],
   "source": [
    "# Initiate the bill\n",
    "bill = 0\n"
   ]
  },
  {
   "cell_type": "code",
   "execution_count": 7,
   "id": "b8316fe8-ff84-463d-96d4-849639b0ae52",
   "metadata": {},
   "outputs": [],
   "source": [
    "# Determine the base price of the pizza\n",
    "if size == \"S\":\n",
    "    bill += 3000\n",
    "elif size == \"M\":\n",
    "    bill += 5500\n",
    "elif size == \"L\":\n",
    "    bill += 10000\n",
    "else:\n",
    "    print(\"Invalid pizza size.\")\n",
    "    exit()  # Exit the program if the size is invalid\n"
   ]
  },
  {
   "cell_type": "code",
   "execution_count": 9,
   "id": "5b6c169c-3520-4e27-8b02-499614945f61",
   "metadata": {},
   "outputs": [],
   "source": [
    "\n",
    "# Add cost for pepperoni\n",
    "if add_pepperoni == \"Y\":\n",
    "    if size == \"S\":\n",
    "        bill += 500\n",
    "    else:\n",
    "        bill += 1000\n"
   ]
  },
  {
   "cell_type": "code",
   "execution_count": 10,
   "id": "b213e0e1-c8b4-4980-97c9-ec58aeb2c6a5",
   "metadata": {},
   "outputs": [],
   "source": [
    "# Add cost for extra cheese\n",
    "if extra_cheese == \"Y\":\n",
    "    bill += 1000\n"
   ]
  },
  {
   "cell_type": "code",
   "execution_count": 11,
   "id": "21a953ec-d315-4358-88cc-6f2e983e13a5",
   "metadata": {},
   "outputs": [
    {
     "name": "stdout",
     "output_type": "stream",
     "text": [
      "Your final bill is: $11500.\n"
     ]
    }
   ],
   "source": [
    "# Display the final bill\n",
    "print(f\"Your final bill is: ${bill}.\")\n"
   ]
  },
  {
   "cell_type": "code",
   "execution_count": null,
   "id": "6ebee88e-a4c9-44f1-a4df-604183eb8026",
   "metadata": {},
   "outputs": [],
   "source": []
  }
 ],
 "metadata": {
  "kernelspec": {
   "display_name": "Python 3 (ipykernel)",
   "language": "python",
   "name": "python3"
  },
  "language_info": {
   "codemirror_mode": {
    "name": "ipython",
    "version": 3
   },
   "file_extension": ".py",
   "mimetype": "text/x-python",
   "name": "python",
   "nbconvert_exporter": "python",
   "pygments_lexer": "ipython3",
   "version": "3.12.4"
  }
 },
 "nbformat": 4,
 "nbformat_minor": 5
}
