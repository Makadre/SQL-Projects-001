{
 "cells": [
  {
   "cell_type": "code",
   "execution_count": 1,
   "id": "2d8d3a05-ce36-4107-9558-45d1fd7dc755",
   "metadata": {},
   "outputs": [],
   "source": [
    "# Part 1: Data Exploration with Pandas\n",
    "import pandas as pd\n"
   ]
  },
  {
   "cell_type": "code",
   "execution_count": 5,
   "id": "7ac54b74-f504-45ea-8831-594a4376c361",
   "metadata": {},
   "outputs": [],
   "source": [
    "# Load the dataset (assuming it is a CSV file)\n",
    "df = pd.read_csv(\"Downloads/Tunisair_flights_dataset.csv\")"
   ]
  },
  {
   "cell_type": "code",
   "execution_count": 6,
   "id": "48e9e79d-2dd4-43a0-8f2e-f486fd619e70",
   "metadata": {},
   "outputs": [
    {
     "name": "stdout",
     "output_type": "stream",
     "text": [
      "First few rows of the dataset:\n",
      "  Filght_date Flight_ID Departure point Arrival point  \\\n",
      "0  2016-01-03  TU 0712              CMN           TUN   \n",
      "1  2016-01-13  TU 0757              MXP           TUN   \n",
      "2  2016-01-16  TU 0214              TUN           IST   \n",
      "3  2016-01-17  TU 0480              DJE           NTE   \n",
      "4  2016-01-17  TU 0338              TUN           ALG   \n",
      "\n",
      "  Scheduled_departure_time Scheduled_arrival_time STATUS Aircraft_code  \\\n",
      "0      2016-01-03 10:30:00    2016-01-03 12.55.00    ATA     TU 32AIMN   \n",
      "1      2016-01-13 15:05:00    2016-01-13 16.55.00    ATA     TU 31BIMO   \n",
      "2      2016-01-16 04:10:00    2016-01-16 06.45.00    ATA     TU 32AIMN   \n",
      "3      2016-01-17 14:10:00    2016-01-17 17.00.00    ATA     TU 736IOK   \n",
      "4      2016-01-17 14:30:00    2016-01-17 15.50.00    ATA     TU 320IMU   \n",
      "\n",
      "   Arrival delay  \n",
      "0          260.0  \n",
      "1           20.0  \n",
      "2            0.0  \n",
      "3            0.0  \n",
      "4           22.0  \n"
     ]
    }
   ],
   "source": [
    "# Display the first few rows of the dataframe\n",
    "print(\"First few rows of the dataset:\")\n",
    "print(df.head())\n"
   ]
  },
  {
   "cell_type": "code",
   "execution_count": 7,
   "id": "748fca30-2c09-466b-9247-bddaf271a085",
   "metadata": {},
   "outputs": [
    {
     "name": "stdout",
     "output_type": "stream",
     "text": [
      "\n",
      "Dataset info:\n",
      "<class 'pandas.core.frame.DataFrame'>\n",
      "RangeIndex: 107833 entries, 0 to 107832\n",
      "Data columns (total 9 columns):\n",
      " #   Column                    Non-Null Count   Dtype  \n",
      "---  ------                    --------------   -----  \n",
      " 0   Filght_date               107833 non-null  object \n",
      " 1   Flight_ID                 107833 non-null  object \n",
      " 2   Departure point           107833 non-null  object \n",
      " 3   Arrival point             107833 non-null  object \n",
      " 4   Scheduled_departure_time  107833 non-null  object \n",
      " 5   Scheduled_arrival_time    107833 non-null  object \n",
      " 6   STATUS                    107833 non-null  object \n",
      " 7   Aircraft_code             107833 non-null  object \n",
      " 8   Arrival delay             107833 non-null  float64\n",
      "dtypes: float64(1), object(8)\n",
      "memory usage: 7.4+ MB\n",
      "None\n"
     ]
    }
   ],
   "source": [
    "# Display general information about the dataset\n",
    "print(\"\\nDataset info:\")\n",
    "print(df.info())\n"
   ]
  },
  {
   "cell_type": "code",
   "execution_count": 8,
   "id": "dd624f72-922c-4b58-a2cb-972b70755e8f",
   "metadata": {},
   "outputs": [
    {
     "name": "stdout",
     "output_type": "stream",
     "text": [
      "\n",
      "Missing values in the dataset:\n",
      "Filght_date                 0\n",
      "Flight_ID                   0\n",
      "Departure point             0\n",
      "Arrival point               0\n",
      "Scheduled_departure_time    0\n",
      "Scheduled_arrival_time      0\n",
      "STATUS                      0\n",
      "Aircraft_code               0\n",
      "Arrival delay               0\n",
      "dtype: int64\n"
     ]
    }
   ],
   "source": [
    "# Check for missing values\n",
    "print(\"\\nMissing values in the dataset:\")\n",
    "print(df.isnull().sum())\n"
   ]
  },
  {
   "cell_type": "code",
   "execution_count": 9,
   "id": "42ca1f3d-2fae-42b2-ab03-e91110731a32",
   "metadata": {},
   "outputs": [
    {
     "name": "stdout",
     "output_type": "stream",
     "text": [
      "\n",
      "Summary statistics:\n",
      "       Arrival delay\n",
      "count  107833.000000\n",
      "mean       48.733013\n",
      "std       117.135562\n",
      "min         0.000000\n",
      "25%         0.000000\n",
      "50%        14.000000\n",
      "75%        43.000000\n",
      "max      3451.000000\n"
     ]
    }
   ],
   "source": [
    "# Calculate summary statistics\n",
    "print(\"\\nSummary statistics:\")\n",
    "print(df.describe())\n"
   ]
  },
  {
   "cell_type": "code",
   "execution_count": null,
   "id": "8fee7b46-9455-481e-97fb-3e3c6a60543c",
   "metadata": {},
   "outputs": [],
   "source": [
    "# Part 2: Data Exploration with ydata-profiling\n",
    "import ydata_profiling"
   ]
  }
 ],
 "metadata": {
  "kernelspec": {
   "display_name": "Python 3 (ipykernel)",
   "language": "python",
   "name": "python3"
  },
  "language_info": {
   "codemirror_mode": {
    "name": "ipython",
    "version": 3
   },
   "file_extension": ".py",
   "mimetype": "text/x-python",
   "name": "python",
   "nbconvert_exporter": "python",
   "pygments_lexer": "ipython3",
   "version": "3.12.4"
  }
 },
 "nbformat": 4,
 "nbformat_minor": 5
}
