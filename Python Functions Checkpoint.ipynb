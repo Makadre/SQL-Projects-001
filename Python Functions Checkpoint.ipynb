{
 "cells": [
  {
   "cell_type": "code",
   "execution_count": 2,
   "id": "025d06a3-5334-4f65-8916-ce0293fa1af0",
   "metadata": {},
   "outputs": [],
   "source": [
    "# Define the basic mathematical functions\n",
    "def add(x, y):\n",
    "    return x + y\n",
    "\n",
    "def subtract(x, y):\n",
    "    return x - y\n",
    "\n",
    "def multiply(x, y):\n",
    "    return x * y\n",
    "\n",
    "def divide(x, y):\n",
    "    if y != 0:\n",
    "        return x / y\n",
    "    else:\n",
    "        return \"Error: Division by zero.\"\n",
    "\n"
   ]
  },
  {
   "cell_type": "code",
   "execution_count": 3,
   "id": "7c2e85ef-7890-411d-be0c-ef12abe88cea",
   "metadata": {},
   "outputs": [],
   "source": [
    "# Dictionary to map operation symbols to functions\n",
    "operations = {\n",
    "    '+': add,\n",
    "    '-': subtract,\n",
    "    '*': multiply,\n",
    "    '/': divide\n",
    "}\n"
   ]
  },
  {
   "cell_type": "code",
   "execution_count": 12,
   "id": "49895439-3a7a-4ac8-bb25-de39c09c3da0",
   "metadata": {},
   "outputs": [],
   "source": [
    "# Main calculator function\n",
    "def calculator():\n",
    "        # Initial input for the first number\n",
    "    num1 = float(input(\"Enter the first number: \"))\n",
    "    should_continue = True\n",
    "    \n",
    "        \n",
    "\n",
    "\n"
   ]
  },
  {
   "cell_type": "code",
   "execution_count": 13,
   "id": "4cbdb223-5353-48fd-baaf-2b873c680321",
   "metadata": {},
   "outputs": [
    {
     "name": "stdout",
     "output_type": "stream",
     "text": [
      "Available operations:\n",
      "+\n",
      "-\n",
      "*\n",
      "/\n"
     ]
    }
   ],
   "source": [
    "\n",
    "        # Print available operations\n",
    "        print(\"Available operations:\")\n",
    "        for symbol in operations:\n",
    "            print(f\"{symbol}\")\n"
   ]
  },
  {
   "cell_type": "code",
   "execution_count": 14,
   "id": "d3f2b5c5-6b5d-443c-ac86-88c6b700b555",
   "metadata": {},
   "outputs": [
    {
     "name": "stdin",
     "output_type": "stream",
     "text": [
      "Choose an operation:  +\n"
     ]
    }
   ],
   "source": [
    "        # Prompt user to select an operation symbol\n",
    "        operation_symbol = input(\"Choose an operation: \")\n"
   ]
  },
  {
   "cell_type": "code",
   "execution_count": 15,
   "id": "f9ff9a66-083b-4a49-8f49-53f28a8370c7",
   "metadata": {},
   "outputs": [
    {
     "name": "stdin",
     "output_type": "stream",
     "text": [
      "Enter the second number:  1\n"
     ]
    }
   ],
   "source": [
    "        # Check if the selected operation is valid\n",
    "        if operation_symbol in operations:\n",
    "            # Prompt user to input the second number\n",
    "            num2 = float(input(\"Enter the second number: \"))\n"
   ]
  },
  {
   "cell_type": "code",
   "execution_count": 16,
   "id": "c2e35875-e8b2-4949-843c-158cb5825f5b",
   "metadata": {},
   "outputs": [],
   "source": [
    "            # Retrieve the function from the dictionary\n",
    "            calculation_function = operations[operation_symbol]\n"
   ]
  },
  {
   "cell_type": "code",
   "execution_count": null,
   "id": "5e403f93-eb73-4fe0-97da-b58f244fe6a7",
   "metadata": {},
   "outputs": [],
   "source": [
    "            # Perform the calculation\n",
    "            answer = calculation_function(num1, num2)\n",
    "            \n",
    "            # Print the result\n",
    "            if isinstance(answer, str):  # Handle error message for division by zero\n",
    "                print(answer)\n",
    "            else:\n",
    "                print(f\"{num1} {operation_symbol} {num2} = {answer}\")\n",
    "            \n",
    "            # Ask if the user wants to continue\n",
    "            continue_calculation = input(\"Do you want to continue with the result as the first number? (yes/no): \").strip().lower()\n",
    "            \n",
    "            if continue_calculation == 'yes':\n",
    "                num1 = answer\n",
    "            else:\n",
    "                should_continue = False\n",
    "                print(\"Starting a new calculation.\")\n",
    "                calculator()  # Start a new calculation\n",
    "\n",
    "# Start the calculator\n",
    "calculator()\n"
   ]
  }
 ],
 "metadata": {
  "kernelspec": {
   "display_name": "Python 3 (ipykernel)",
   "language": "python",
   "name": "python3"
  },
  "language_info": {
   "codemirror_mode": {
    "name": "ipython",
    "version": 3
   },
   "file_extension": ".py",
   "mimetype": "text/x-python",
   "name": "python",
   "nbconvert_exporter": "python",
   "pygments_lexer": "ipython3",
   "version": "3.12.4"
  }
 },
 "nbformat": 4,
 "nbformat_minor": 5
}
