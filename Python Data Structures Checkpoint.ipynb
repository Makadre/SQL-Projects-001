{
 "cells": [
  {
   "cell_type": "code",
   "execution_count": 1,
   "id": "58b236fc-c0d6-4fe5-ba74-bbb730be74e9",
   "metadata": {},
   "outputs": [],
   "source": [
    "# Initialize the shopping list\n",
    "shopping_list = []\n"
   ]
  },
  {
   "cell_type": "code",
   "execution_count": 2,
   "id": "baf59512-78c2-4593-b566-32c3633d72c5",
   "metadata": {},
   "outputs": [],
   "source": [
    "# Define the maximum number of items allowed\n",
    "MAX_ITEMS = 10\n"
   ]
  },
  {
   "cell_type": "code",
   "execution_count": 3,
   "id": "765d5c89-604c-452f-9b86-2088fdbac550",
   "metadata": {},
   "outputs": [],
   "source": [
    "def display_menu():\n",
    "    print(\"\\nShopping List Menu:\")\n",
    "    print(\"1. Add item\")\n",
    "    print(\"2. Remove item\")\n",
    "    print(\"3. View items\")\n",
    "    print(\"4. Exit\")\n"
   ]
  },
  {
   "cell_type": "code",
   "execution_count": 4,
   "id": "65a1f713-3f56-44c2-a8df-f3cce735bf86",
   "metadata": {},
   "outputs": [],
   "source": [
    "def add_item():\n",
    "    if len(shopping_list) >= MAX_ITEMS:\n",
    "        print(\"You cannot add more items. The shopping list is full.\")\n",
    "        return\n"
   ]
  },
  {
   "cell_type": "code",
   "execution_count": 5,
   "id": "1374fdfb-0d4a-4dac-9b23-395e9149a990",
   "metadata": {},
   "outputs": [
    {
     "name": "stdin",
     "output_type": "stream",
     "text": [
      "Enter the item to add:  Toothpaste, Soap, Umbrella\n"
     ]
    },
    {
     "name": "stdout",
     "output_type": "stream",
     "text": [
      "Item 'Toothpaste, Soap, Umbrella' added to the list.\n"
     ]
    }
   ],
   "source": [
    "    item = input(\"Enter the item to add: \")\n",
    "    shopping_list.append(item)\n",
    "    print(f\"Item '{item}' added to the list.\")\n"
   ]
  },
  {
   "cell_type": "code",
   "execution_count": 6,
   "id": "8ce0f39d-264b-41ac-85ed-0a991d3bfc86",
   "metadata": {},
   "outputs": [],
   "source": [
    "def remove_item():\n",
    "    item = input(\"Enter the item to remove: \")\n",
    "    if item in shopping_list:\n",
    "        shopping_list.remove(item)\n",
    "        print(f\"Item '{item}' removed from the list.\")\n",
    "    else:\n",
    "        print(f\"Item '{item}' not found in the list.\")\n"
   ]
  },
  {
   "cell_type": "code",
   "execution_count": 7,
   "id": "d65d99ef-d343-4096-adfa-4b74a940c3f8",
   "metadata": {},
   "outputs": [],
   "source": [
    "def view_items():\n",
    "    if not shopping_list:\n",
    "        print(\"The shopping list is empty.\")\n",
    "    else:\n",
    "        print(\"Shopping List:\")\n",
    "        for item in shopping_list:\n",
    "            print(f\"- {item}\")\n"
   ]
  },
  {
   "cell_type": "code",
   "execution_count": 8,
   "id": "3f3c053f-a3b1-4c01-8179-686be109ed58",
   "metadata": {},
   "outputs": [],
   "source": [
    "def main():\n",
    "    while True:\n",
    "        display_menu()\n",
    "        choice = input(\"Choose an option (1-4): \")\n",
    "\n",
    "        if choice == '1':\n",
    "            add_item()\n",
    "        elif choice == '2':\n",
    "            remove_item()\n",
    "        elif choice == '3':\n",
    "            view_items()\n",
    "        elif choice == '4':\n",
    "            print(\"Exiting the program.\")\n",
    "            break\n",
    "        else:\n",
    "            print(\"Invalid choice. Please select a valid option.\")\n",
    "\n"
   ]
  },
  {
   "cell_type": "code",
   "execution_count": null,
   "id": "cba4909e-48ea-49d4-937b-8564b2494879",
   "metadata": {},
   "outputs": [],
   "source": [
    "if __name__ == \"__main__\":\n",
    "    main()\n"
   ]
  },
  {
   "cell_type": "code",
   "execution_count": null,
   "id": "97564db9-5cc3-4a86-9a11-ef7186dc8e3d",
   "metadata": {},
   "outputs": [],
   "source": [
    "3\n"
   ]
  }
 ],
 "metadata": {
  "kernelspec": {
   "display_name": "Python 3 (ipykernel)",
   "language": "python",
   "name": "python3"
  },
  "language_info": {
   "codemirror_mode": {
    "name": "ipython",
    "version": 3
   },
   "file_extension": ".py",
   "mimetype": "text/x-python",
   "name": "python",
   "nbconvert_exporter": "python",
   "pygments_lexer": "ipython3",
   "version": "3.12.4"
  }
 },
 "nbformat": 4,
 "nbformat_minor": 5
}
