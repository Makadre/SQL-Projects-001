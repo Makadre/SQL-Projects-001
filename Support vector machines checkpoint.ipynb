{
 "cells": [
  {
   "cell_type": "markdown",
   "id": "3ab945c7-1ab6-466e-86e5-50ec6a7baad4",
   "metadata": {},
   "source": [
    "# Electric Vehicle Prediction"
   ]
  },
  {
   "cell_type": "markdown",
   "id": "3d99c683-cfd9-4220-a63e-41eace3ded6a",
   "metadata": {},
   "source": [
    "In this checkpoint, I am going to work on the **'Electric Vehicle Data'** dataset that was provided by Kaggle as part of the Electric Vehicle Price Prediction competition.\n",
    "\n",
    "Dataset description: This dataset contains information on the Battery Electric Vehicles (BEVs) and Plug-in Hybrid Electric Vehicles (PHEVs) that are currently registered with the Washington State Department of Licensing (DOL). This dataset was introduced as part of an official invitation-based competition on Kaggle. Our SVM model should answer the question \"This is my car's model & make, along with a few other parameters, what price can this vehicle be brought or sold?”\n",
    "\n",
    "➡️ Dataset link\n",
    "\n",
    "https://i.imgur.com/IpuCW3s.jpg\n",
    " "
   ]
  },
  {
   "cell_type": "markdown",
   "id": "8d445b82-d89b-4729-adfc-4ccecc56cde5",
   "metadata": {},
   "source": [
    "Instructions\n",
    "\n",
    "1. Import you data and perform basic data exploration phase\n",
    "- Display general information about the dataset\n",
    "- Create a pandas profiling reports to gain insights into the dataset\n",
    "- Handle Missing and corrupted values\n",
    "- Remove duplicates, if they exist\n",
    "- Handle outliers, if they exist\n",
    "- Encode categorical features\n",
    "  \n",
    "2. Select your target variable and the features\n",
    "3. Split your dataset to training and test sets\n",
    "4. Build and train an SVM model on the training set\n",
    "5. Assess your model performance on the test set using relevant evaluation metrics\n",
    "6. Discuss with your cohort alternative ways to improve your model performance"
   ]
  },
  {
   "cell_type": "code",
   "execution_count": 4,
   "id": "7d014892-a42b-4fe5-b6c0-c0c8acea5e5a",
   "metadata": {
    "slideshow": {
     "slide_type": ""
    },
    "tags": []
   },
   "outputs": [],
   "source": [
    "# Suppress warnings for cleaner output\n",
    "import warnings\n",
    "warnings.filterwarnings('ignore')"
   ]
  },
  {
   "cell_type": "code",
   "execution_count": 6,
   "id": "9e5313c5-3af9-448e-8232-ec50e4b3a61d",
   "metadata": {},
   "outputs": [],
   "source": [
    "import pandas as pd\n",
    "import numpy as np\n",
    "import seaborn as sns\n",
    "import matplotlib.pyplot as plt\n",
    "\n",
    "from sklearn.model_selection import train_test_split\n",
    "from sklearn.preprocessing import LabelEncoder\n",
    "from sklearn.preprocessing import StandardScaler\n",
    "from sklearn.svm import SVR \n",
    "from sklearn.metrics import mean_squared_error, r2_score"
   ]
  },
  {
   "cell_type": "code",
   "execution_count": 12,
   "id": "c9472fb1-fed7-4ba2-916a-d0033842e329",
   "metadata": {},
   "outputs": [],
   "source": [
    "#loading the dataset\n",
    "df = pd.read_csv(r\"C:\\Users\\Oguntuga\\Downloads\\Electric_cars_dataset.csv\")"
   ]
  },
  {
   "cell_type": "markdown",
   "id": "f85ea68c-3237-47e9-85c5-2b8da0e532ae",
   "metadata": {},
   "source": [
    "#### Overview of the dataset"
   ]
  },
  {
   "cell_type": "code",
   "execution_count": 15,
   "id": "b5f9d0b3-dde1-462b-b2fd-43c35c8bb545",
   "metadata": {},
   "outputs": [
    {
     "data": {
      "text/html": [
       "<div>\n",
       "<style scoped>\n",
       "    .dataframe tbody tr th:only-of-type {\n",
       "        vertical-align: middle;\n",
       "    }\n",
       "\n",
       "    .dataframe tbody tr th {\n",
       "        vertical-align: top;\n",
       "    }\n",
       "\n",
       "    .dataframe thead th {\n",
       "        text-align: right;\n",
       "    }\n",
       "</style>\n",
       "<table border=\"1\" class=\"dataframe\">\n",
       "  <thead>\n",
       "    <tr style=\"text-align: right;\">\n",
       "      <th></th>\n",
       "      <th>ID</th>\n",
       "      <th>VIN (1-10)</th>\n",
       "      <th>County</th>\n",
       "      <th>City</th>\n",
       "      <th>State</th>\n",
       "      <th>ZIP Code</th>\n",
       "      <th>Model Year</th>\n",
       "      <th>Make</th>\n",
       "      <th>Model</th>\n",
       "      <th>Electric Vehicle Type</th>\n",
       "      <th>Clean Alternative Fuel Vehicle (CAFV) Eligibility</th>\n",
       "      <th>Electric Range</th>\n",
       "      <th>Base MSRP</th>\n",
       "      <th>Legislative District</th>\n",
       "      <th>DOL Vehicle ID</th>\n",
       "      <th>Vehicle Location</th>\n",
       "      <th>Electric Utility</th>\n",
       "      <th>Expected Price ($1k)</th>\n",
       "    </tr>\n",
       "  </thead>\n",
       "  <tbody>\n",
       "    <tr>\n",
       "      <th>0</th>\n",
       "      <td>EV33174</td>\n",
       "      <td>5YJ3E1EC6L</td>\n",
       "      <td>Snohomish</td>\n",
       "      <td>LYNNWOOD</td>\n",
       "      <td>WA</td>\n",
       "      <td>98037.0</td>\n",
       "      <td>2020.0</td>\n",
       "      <td>TESLA</td>\n",
       "      <td>MODEL 3</td>\n",
       "      <td>Battery Electric Vehicle (BEV)</td>\n",
       "      <td>Clean Alternative Fuel Vehicle Eligible</td>\n",
       "      <td>308</td>\n",
       "      <td>0</td>\n",
       "      <td>32.0</td>\n",
       "      <td>109821694</td>\n",
       "      <td>POINT (-122.287614 47.83874)</td>\n",
       "      <td>PUGET SOUND ENERGY INC</td>\n",
       "      <td>50</td>\n",
       "    </tr>\n",
       "    <tr>\n",
       "      <th>1</th>\n",
       "      <td>EV40247</td>\n",
       "      <td>JN1AZ0CP8B</td>\n",
       "      <td>Skagit</td>\n",
       "      <td>BELLINGHAM</td>\n",
       "      <td>WA</td>\n",
       "      <td>98229.0</td>\n",
       "      <td>2011.0</td>\n",
       "      <td>NISSAN</td>\n",
       "      <td>LEAF</td>\n",
       "      <td>Battery Electric Vehicle (BEV)</td>\n",
       "      <td>Clean Alternative Fuel Vehicle Eligible</td>\n",
       "      <td>73</td>\n",
       "      <td>0</td>\n",
       "      <td>40.0</td>\n",
       "      <td>137375528</td>\n",
       "      <td>POINT (-122.414936 48.709388)</td>\n",
       "      <td>PUGET SOUND ENERGY INC</td>\n",
       "      <td>15</td>\n",
       "    </tr>\n",
       "    <tr>\n",
       "      <th>2</th>\n",
       "      <td>EV12248</td>\n",
       "      <td>WBY1Z2C56F</td>\n",
       "      <td>Pierce</td>\n",
       "      <td>TACOMA</td>\n",
       "      <td>WA</td>\n",
       "      <td>98422.0</td>\n",
       "      <td>2015.0</td>\n",
       "      <td>BMW</td>\n",
       "      <td>I3</td>\n",
       "      <td>Battery Electric Vehicle (BEV)</td>\n",
       "      <td>Clean Alternative Fuel Vehicle Eligible</td>\n",
       "      <td>81</td>\n",
       "      <td>0</td>\n",
       "      <td>27.0</td>\n",
       "      <td>150627382</td>\n",
       "      <td>POINT (-122.396286 47.293138)</td>\n",
       "      <td>BONNEVILLE POWER ADMINISTRATION||CITY OF TACOM...</td>\n",
       "      <td>18</td>\n",
       "    </tr>\n",
       "    <tr>\n",
       "      <th>3</th>\n",
       "      <td>EV55713</td>\n",
       "      <td>1G1RD6E44D</td>\n",
       "      <td>King</td>\n",
       "      <td>REDMOND</td>\n",
       "      <td>WA</td>\n",
       "      <td>98053.0</td>\n",
       "      <td>2013.0</td>\n",
       "      <td>CHEVROLET</td>\n",
       "      <td>VOLT</td>\n",
       "      <td>Plug-in Hybrid Electric Vehicle (PHEV)</td>\n",
       "      <td>Clean Alternative Fuel Vehicle Eligible</td>\n",
       "      <td>38</td>\n",
       "      <td>0</td>\n",
       "      <td>45.0</td>\n",
       "      <td>258766301</td>\n",
       "      <td>POINT (-122.024951 47.670286)</td>\n",
       "      <td>PUGET SOUND ENERGY INC||CITY OF TACOMA - (WA)</td>\n",
       "      <td>33.9</td>\n",
       "    </tr>\n",
       "    <tr>\n",
       "      <th>4</th>\n",
       "      <td>EV28799</td>\n",
       "      <td>1G1FY6S05K</td>\n",
       "      <td>Pierce</td>\n",
       "      <td>PUYALLUP</td>\n",
       "      <td>WA</td>\n",
       "      <td>98375.0</td>\n",
       "      <td>2019.0</td>\n",
       "      <td>CHEVROLET</td>\n",
       "      <td>BOLT EV</td>\n",
       "      <td>Battery Electric Vehicle (BEV)</td>\n",
       "      <td>Clean Alternative Fuel Vehicle Eligible</td>\n",
       "      <td>238</td>\n",
       "      <td>0</td>\n",
       "      <td>25.0</td>\n",
       "      <td>296998138</td>\n",
       "      <td>POINT (-122.321062 47.103797)</td>\n",
       "      <td>BONNEVILLE POWER ADMINISTRATION||CITY OF TACOM...</td>\n",
       "      <td>41.78</td>\n",
       "    </tr>\n",
       "  </tbody>\n",
       "</table>\n",
       "</div>"
      ],
      "text/plain": [
       "        ID  VIN (1-10)     County        City State  ZIP Code  Model Year  \\\n",
       "0  EV33174  5YJ3E1EC6L  Snohomish    LYNNWOOD    WA   98037.0      2020.0   \n",
       "1  EV40247  JN1AZ0CP8B     Skagit  BELLINGHAM    WA   98229.0      2011.0   \n",
       "2  EV12248  WBY1Z2C56F     Pierce      TACOMA    WA   98422.0      2015.0   \n",
       "3  EV55713  1G1RD6E44D       King     REDMOND    WA   98053.0      2013.0   \n",
       "4  EV28799  1G1FY6S05K     Pierce    PUYALLUP    WA   98375.0      2019.0   \n",
       "\n",
       "        Make    Model                   Electric Vehicle Type  \\\n",
       "0      TESLA  MODEL 3          Battery Electric Vehicle (BEV)   \n",
       "1     NISSAN     LEAF          Battery Electric Vehicle (BEV)   \n",
       "2        BMW       I3          Battery Electric Vehicle (BEV)   \n",
       "3  CHEVROLET     VOLT  Plug-in Hybrid Electric Vehicle (PHEV)   \n",
       "4  CHEVROLET  BOLT EV          Battery Electric Vehicle (BEV)   \n",
       "\n",
       "  Clean Alternative Fuel Vehicle (CAFV) Eligibility  Electric Range  \\\n",
       "0           Clean Alternative Fuel Vehicle Eligible             308   \n",
       "1           Clean Alternative Fuel Vehicle Eligible              73   \n",
       "2           Clean Alternative Fuel Vehicle Eligible              81   \n",
       "3           Clean Alternative Fuel Vehicle Eligible              38   \n",
       "4           Clean Alternative Fuel Vehicle Eligible             238   \n",
       "\n",
       "   Base MSRP  Legislative District  DOL Vehicle ID  \\\n",
       "0          0                  32.0       109821694   \n",
       "1          0                  40.0       137375528   \n",
       "2          0                  27.0       150627382   \n",
       "3          0                  45.0       258766301   \n",
       "4          0                  25.0       296998138   \n",
       "\n",
       "                Vehicle Location  \\\n",
       "0   POINT (-122.287614 47.83874)   \n",
       "1  POINT (-122.414936 48.709388)   \n",
       "2  POINT (-122.396286 47.293138)   \n",
       "3  POINT (-122.024951 47.670286)   \n",
       "4  POINT (-122.321062 47.103797)   \n",
       "\n",
       "                                    Electric Utility Expected Price ($1k)  \n",
       "0                             PUGET SOUND ENERGY INC                   50  \n",
       "1                             PUGET SOUND ENERGY INC                   15  \n",
       "2  BONNEVILLE POWER ADMINISTRATION||CITY OF TACOM...                   18  \n",
       "3      PUGET SOUND ENERGY INC||CITY OF TACOMA - (WA)                 33.9  \n",
       "4  BONNEVILLE POWER ADMINISTRATION||CITY OF TACOM...                41.78  "
      ]
     },
     "execution_count": 15,
     "metadata": {},
     "output_type": "execute_result"
    }
   ],
   "source": [
    "df.head()"
   ]
  },
  {
   "cell_type": "code",
   "execution_count": 17,
   "id": "24a0928c-608c-4d13-b3a7-8eb2a4e23684",
   "metadata": {},
   "outputs": [
    {
     "data": {
      "text/plain": [
       "(64353, 18)"
      ]
     },
     "execution_count": 17,
     "metadata": {},
     "output_type": "execute_result"
    }
   ],
   "source": [
    "df.shape"
   ]
  },
  {
   "cell_type": "code",
   "execution_count": 19,
   "id": "10c653e2-1dff-4d55-b0a1-2bc7fa6bd99f",
   "metadata": {
    "scrolled": true
   },
   "outputs": [
    {
     "name": "stdout",
     "output_type": "stream",
     "text": [
      "<class 'pandas.core.frame.DataFrame'>\n",
      "RangeIndex: 64353 entries, 0 to 64352\n",
      "Data columns (total 18 columns):\n",
      " #   Column                                             Non-Null Count  Dtype  \n",
      "---  ------                                             --------------  -----  \n",
      " 0   ID                                                 64353 non-null  object \n",
      " 1   VIN (1-10)                                         64353 non-null  object \n",
      " 2   County                                             64349 non-null  object \n",
      " 3   City                                               64344 non-null  object \n",
      " 4   State                                              64342 non-null  object \n",
      " 5   ZIP Code                                           64347 non-null  float64\n",
      " 6   Model Year                                         64346 non-null  float64\n",
      " 7   Make                                               64349 non-null  object \n",
      " 8   Model                                              64340 non-null  object \n",
      " 9   Electric Vehicle Type                              64353 non-null  object \n",
      " 10  Clean Alternative Fuel Vehicle (CAFV) Eligibility  64353 non-null  object \n",
      " 11  Electric Range                                     64353 non-null  int64  \n",
      " 12  Base MSRP                                          64353 non-null  int64  \n",
      " 13  Legislative District                               64184 non-null  float64\n",
      " 14  DOL Vehicle ID                                     64353 non-null  int64  \n",
      " 15  Vehicle Location                                   63843 non-null  object \n",
      " 16  Electric Utility                                   63631 non-null  object \n",
      " 17  Expected Price ($1k)                               64353 non-null  object \n",
      "dtypes: float64(3), int64(3), object(12)\n",
      "memory usage: 8.8+ MB\n"
     ]
    }
   ],
   "source": [
    "df.info()"
   ]
  },
  {
   "cell_type": "code",
   "execution_count": 21,
   "id": "32c3486c-e486-4e50-a35d-e612ae7dd47d",
   "metadata": {},
   "outputs": [
    {
     "data": {
      "text/html": [
       "<div>\n",
       "<style scoped>\n",
       "    .dataframe tbody tr th:only-of-type {\n",
       "        vertical-align: middle;\n",
       "    }\n",
       "\n",
       "    .dataframe tbody tr th {\n",
       "        vertical-align: top;\n",
       "    }\n",
       "\n",
       "    .dataframe thead th {\n",
       "        text-align: right;\n",
       "    }\n",
       "</style>\n",
       "<table border=\"1\" class=\"dataframe\">\n",
       "  <thead>\n",
       "    <tr style=\"text-align: right;\">\n",
       "      <th></th>\n",
       "      <th>ZIP Code</th>\n",
       "      <th>Model Year</th>\n",
       "      <th>Electric Range</th>\n",
       "      <th>Base MSRP</th>\n",
       "      <th>Legislative District</th>\n",
       "      <th>DOL Vehicle ID</th>\n",
       "    </tr>\n",
       "  </thead>\n",
       "  <tbody>\n",
       "    <tr>\n",
       "      <th>count</th>\n",
       "      <td>64347.000000</td>\n",
       "      <td>64346.000000</td>\n",
       "      <td>64353.000000</td>\n",
       "      <td>64353.000000</td>\n",
       "      <td>64184.000000</td>\n",
       "      <td>6.435300e+04</td>\n",
       "    </tr>\n",
       "    <tr>\n",
       "      <th>mean</th>\n",
       "      <td>98143.452888</td>\n",
       "      <td>2018.186212</td>\n",
       "      <td>106.948985</td>\n",
       "      <td>2524.990754</td>\n",
       "      <td>29.951904</td>\n",
       "      <td>1.972905e+08</td>\n",
       "    </tr>\n",
       "    <tr>\n",
       "      <th>std</th>\n",
       "      <td>2856.064329</td>\n",
       "      <td>2.726742</td>\n",
       "      <td>104.093919</td>\n",
       "      <td>12402.895104</td>\n",
       "      <td>14.661124</td>\n",
       "      <td>1.069466e+08</td>\n",
       "    </tr>\n",
       "    <tr>\n",
       "      <th>min</th>\n",
       "      <td>745.000000</td>\n",
       "      <td>1993.000000</td>\n",
       "      <td>0.000000</td>\n",
       "      <td>0.000000</td>\n",
       "      <td>0.000000</td>\n",
       "      <td>4.385000e+03</td>\n",
       "    </tr>\n",
       "    <tr>\n",
       "      <th>25%</th>\n",
       "      <td>98052.000000</td>\n",
       "      <td>2017.000000</td>\n",
       "      <td>14.000000</td>\n",
       "      <td>0.000000</td>\n",
       "      <td>19.000000</td>\n",
       "      <td>1.372865e+08</td>\n",
       "    </tr>\n",
       "    <tr>\n",
       "      <th>50%</th>\n",
       "      <td>98121.000000</td>\n",
       "      <td>2018.000000</td>\n",
       "      <td>73.000000</td>\n",
       "      <td>0.000000</td>\n",
       "      <td>34.000000</td>\n",
       "      <td>1.753776e+08</td>\n",
       "    </tr>\n",
       "    <tr>\n",
       "      <th>75%</th>\n",
       "      <td>98370.000000</td>\n",
       "      <td>2021.000000</td>\n",
       "      <td>215.000000</td>\n",
       "      <td>0.000000</td>\n",
       "      <td>43.000000</td>\n",
       "      <td>2.299039e+08</td>\n",
       "    </tr>\n",
       "    <tr>\n",
       "      <th>max</th>\n",
       "      <td>99701.000000</td>\n",
       "      <td>2022.000000</td>\n",
       "      <td>337.000000</td>\n",
       "      <td>845000.000000</td>\n",
       "      <td>49.000000</td>\n",
       "      <td>4.789346e+08</td>\n",
       "    </tr>\n",
       "  </tbody>\n",
       "</table>\n",
       "</div>"
      ],
      "text/plain": [
       "           ZIP Code    Model Year  Electric Range      Base MSRP  \\\n",
       "count  64347.000000  64346.000000    64353.000000   64353.000000   \n",
       "mean   98143.452888   2018.186212      106.948985    2524.990754   \n",
       "std     2856.064329      2.726742      104.093919   12402.895104   \n",
       "min      745.000000   1993.000000        0.000000       0.000000   \n",
       "25%    98052.000000   2017.000000       14.000000       0.000000   \n",
       "50%    98121.000000   2018.000000       73.000000       0.000000   \n",
       "75%    98370.000000   2021.000000      215.000000       0.000000   \n",
       "max    99701.000000   2022.000000      337.000000  845000.000000   \n",
       "\n",
       "       Legislative District  DOL Vehicle ID  \n",
       "count          64184.000000    6.435300e+04  \n",
       "mean              29.951904    1.972905e+08  \n",
       "std               14.661124    1.069466e+08  \n",
       "min                0.000000    4.385000e+03  \n",
       "25%               19.000000    1.372865e+08  \n",
       "50%               34.000000    1.753776e+08  \n",
       "75%               43.000000    2.299039e+08  \n",
       "max               49.000000    4.789346e+08  "
      ]
     },
     "execution_count": 21,
     "metadata": {},
     "output_type": "execute_result"
    }
   ],
   "source": [
    "df.describe()"
   ]
  },
  {
   "cell_type": "code",
   "execution_count": 23,
   "id": "55210fc8-523b-46e0-94a3-8ddb61df50a3",
   "metadata": {
    "scrolled": true
   },
   "outputs": [
    {
     "data": {
      "text/plain": [
       "array(['50', '15', '18', '33.9', '41.78', '16.365', '31.5', '65', '19',\n",
       "       '27', '40', '39.9', '41.5', '25.004', '73', '79.596', '72', '39',\n",
       "       '16', '33', '64', '69', '16.251', '29.998', '20.004', '13.9', '35',\n",
       "       '102', '54', '78', '38', '21', '85', '45.6', '57', '69.2', '20',\n",
       "       '14.5', '24.283', '22.2', '36.98', '73.9', '28', '60.2', '26.22',\n",
       "       '25', '60', '43', '17', '20.5', '10.042', '31.67', '36.6', '33.89',\n",
       "       '136.8', '21.998', '13.3', '30', '18.5', '22.857', '15.6', '27.4',\n",
       "       '18.058', '30.8', '42.8', '142', '9.035', '63.4', '37.413', '42',\n",
       "       '62', '59.979', '11.75', '80', '13.115', '70', '22.3', '38.5',\n",
       "       '16.5', '29.49', '21.3', '18.374', '95', '40.9', '90', '22',\n",
       "       '82.5', '20.6', '20.9', '28.2', '34.5', '32.1', '36.5', '45',\n",
       "       '30.152', '96', '24', '46.5', '23', '37.3', '37', '67.07', '51.57',\n",
       "       '26', '105', '5.499', '18.6', '65.9', '21.9', '7', '119.8',\n",
       "       '21.258', '8.9', '24.69', '15.5', '16.999', '18.86', '30.2', '68',\n",
       "       '98.4', '46', '48.9', '51.573', '33.5', '12', '117.4', '21.53',\n",
       "       '124.9', '33.8', '26.427', '23.25', '28.1', '58.6', '106',\n",
       "       '46.745', '16.557', '600', '15.2', '34', '6.9', '42.9', '35.9',\n",
       "       '41', '13.816', '52.9', '32', '23.1', '69.9', '114.99', '55.9',\n",
       "       '78.4', '11.9', '45.7', '29', '52.6', '86.9', '13.4', '11.4',\n",
       "       '27.2', '13', '23.64', '20.998', '14', '10', '44', 'N/', '20.031',\n",
       "       '29.5', '43.912', '32.3', '82.7', '28.4', '102.4', '58', '89.75',\n",
       "       '44.45', '17.6', '103.4', '3', '75', '51', '9.079', '27.3', '36.1',\n",
       "       '53.8', '67', '72.9', '36', '16.7', '33.4', '32.4', '87.3', '55',\n",
       "       '47', '58.75', '31.8', '29.72', '18.9', '21.8', '0', '189', '47.9',\n",
       "       '21.7', '29.3', '24.5', '18.05', '26.52', '2.8', '1100', '845'],\n",
       "      dtype=object)"
      ]
     },
     "execution_count": 23,
     "metadata": {},
     "output_type": "execute_result"
    }
   ],
   "source": [
    "df[\"Expected Price ($1k)\"].unique()"
   ]
  },
  {
   "cell_type": "code",
   "execution_count": 25,
   "id": "00c5789e-cade-45d1-b17c-fa6db12af5b0",
   "metadata": {},
   "outputs": [],
   "source": [
    "# Replace 'N/' with NaN \n",
    "df[\"Expected Price ($1k)\"] = df[\"Expected Price ($1k)\"].replace(['N/', 'NA', ''], np.nan)\n",
    "df[\"Expected Price ($1k)\"] = pd.to_numeric(df[\"Expected Price ($1k)\"], errors='coerce')\n",
    "    "
   ]
  },
  {
   "cell_type": "markdown",
   "id": "a9bd328d-5d77-42b4-8de5-df67269b2ca4",
   "metadata": {},
   "source": [
    "#### Checking for missing values and duplicates"
   ]
  },
  {
   "cell_type": "code",
   "execution_count": 28,
   "id": "51d7f013-d1af-44f1-94a9-f6ba6bfefca1",
   "metadata": {},
   "outputs": [
    {
     "data": {
      "text/plain": [
       "ID                                                     0\n",
       "VIN (1-10)                                             0\n",
       "County                                                 4\n",
       "City                                                   9\n",
       "State                                                 11\n",
       "ZIP Code                                               6\n",
       "Model Year                                             7\n",
       "Make                                                   4\n",
       "Model                                                 13\n",
       "Electric Vehicle Type                                  0\n",
       "Clean Alternative Fuel Vehicle (CAFV) Eligibility      0\n",
       "Electric Range                                         0\n",
       "Base MSRP                                              0\n",
       "Legislative District                                 169\n",
       "DOL Vehicle ID                                         0\n",
       "Vehicle Location                                     510\n",
       "Electric Utility                                     722\n",
       "Expected Price ($1k)                                  13\n",
       "dtype: int64"
      ]
     },
     "execution_count": 28,
     "metadata": {},
     "output_type": "execute_result"
    }
   ],
   "source": [
    "df.isnull().sum()"
   ]
  },
  {
   "cell_type": "code",
   "execution_count": 30,
   "id": "6a2d091b-bd3e-4ab8-8376-38530451c212",
   "metadata": {
    "scrolled": true
   },
   "outputs": [
    {
     "data": {
      "text/html": [
       "<div>\n",
       "<style scoped>\n",
       "    .dataframe tbody tr th:only-of-type {\n",
       "        vertical-align: middle;\n",
       "    }\n",
       "\n",
       "    .dataframe tbody tr th {\n",
       "        vertical-align: top;\n",
       "    }\n",
       "\n",
       "    .dataframe thead th {\n",
       "        text-align: right;\n",
       "    }\n",
       "</style>\n",
       "<table border=\"1\" class=\"dataframe\">\n",
       "  <thead>\n",
       "    <tr style=\"text-align: right;\">\n",
       "      <th></th>\n",
       "      <th>ID</th>\n",
       "      <th>VIN (1-10)</th>\n",
       "      <th>County</th>\n",
       "      <th>City</th>\n",
       "      <th>State</th>\n",
       "      <th>ZIP Code</th>\n",
       "      <th>Model Year</th>\n",
       "      <th>Make</th>\n",
       "      <th>Model</th>\n",
       "      <th>Electric Vehicle Type</th>\n",
       "      <th>Clean Alternative Fuel Vehicle (CAFV) Eligibility</th>\n",
       "      <th>Electric Range</th>\n",
       "      <th>Base MSRP</th>\n",
       "      <th>Legislative District</th>\n",
       "      <th>DOL Vehicle ID</th>\n",
       "      <th>Vehicle Location</th>\n",
       "      <th>Electric Utility</th>\n",
       "      <th>Expected Price ($1k)</th>\n",
       "    </tr>\n",
       "  </thead>\n",
       "  <tbody>\n",
       "    <tr>\n",
       "      <th>2714</th>\n",
       "      <td>EV35011</td>\n",
       "      <td>1FMCU0LZ4N</td>\n",
       "      <td>King</td>\n",
       "      <td>YARROW POINT</td>\n",
       "      <td>WA</td>\n",
       "      <td>98004.0</td>\n",
       "      <td>2022.0</td>\n",
       "      <td>FORD</td>\n",
       "      <td>NaN</td>\n",
       "      <td>Plug-in Hybrid Electric Vehicle (PHEV)</td>\n",
       "      <td>Clean Alternative Fuel Vehicle Eligible</td>\n",
       "      <td>38</td>\n",
       "      <td>0</td>\n",
       "      <td>48.0</td>\n",
       "      <td>192602371</td>\n",
       "      <td>POINT (-122.203169 47.619011)</td>\n",
       "      <td>PUGET SOUND ENERGY INC||CITY OF TACOMA - (WA)</td>\n",
       "      <td>NaN</td>\n",
       "    </tr>\n",
       "    <tr>\n",
       "      <th>4081</th>\n",
       "      <td>EV55301</td>\n",
       "      <td>1FMCU0KZ4N</td>\n",
       "      <td>Island</td>\n",
       "      <td>OAK HARBOR</td>\n",
       "      <td>WA</td>\n",
       "      <td>98277.0</td>\n",
       "      <td>2022.0</td>\n",
       "      <td>FORD</td>\n",
       "      <td>NaN</td>\n",
       "      <td>Plug-in Hybrid Electric Vehicle (PHEV)</td>\n",
       "      <td>Clean Alternative Fuel Vehicle Eligible</td>\n",
       "      <td>38</td>\n",
       "      <td>0</td>\n",
       "      <td>10.0</td>\n",
       "      <td>193046381</td>\n",
       "      <td>POINT (-122.63841 48.310313)</td>\n",
       "      <td>PUGET SOUND ENERGY INC</td>\n",
       "      <td>NaN</td>\n",
       "    </tr>\n",
       "    <tr>\n",
       "      <th>13866</th>\n",
       "      <td>EV20774</td>\n",
       "      <td>1FMCU0LZ2N</td>\n",
       "      <td>Jefferson</td>\n",
       "      <td>PORT LUDLOW</td>\n",
       "      <td>WA</td>\n",
       "      <td>98365.0</td>\n",
       "      <td>2022.0</td>\n",
       "      <td>FORD</td>\n",
       "      <td>NaN</td>\n",
       "      <td>Plug-in Hybrid Electric Vehicle (PHEV)</td>\n",
       "      <td>Clean Alternative Fuel Vehicle Eligible</td>\n",
       "      <td>38</td>\n",
       "      <td>0</td>\n",
       "      <td>24.0</td>\n",
       "      <td>190318901</td>\n",
       "      <td>POINT (-122.69441 47.905058)</td>\n",
       "      <td>BONNEVILLE POWER ADMINISTRATION||PUGET SOUND E...</td>\n",
       "      <td>NaN</td>\n",
       "    </tr>\n",
       "    <tr>\n",
       "      <th>14787</th>\n",
       "      <td>EV21204</td>\n",
       "      <td>1FMCU0KZ2N</td>\n",
       "      <td>Clark</td>\n",
       "      <td>CAMAS</td>\n",
       "      <td>WA</td>\n",
       "      <td>98607.0</td>\n",
       "      <td>2022.0</td>\n",
       "      <td>FORD</td>\n",
       "      <td>NaN</td>\n",
       "      <td>Plug-in Hybrid Electric Vehicle (PHEV)</td>\n",
       "      <td>Clean Alternative Fuel Vehicle Eligible</td>\n",
       "      <td>38</td>\n",
       "      <td>0</td>\n",
       "      <td>18.0</td>\n",
       "      <td>195263764</td>\n",
       "      <td>POINT (-122.408498 45.620943)</td>\n",
       "      <td>BONNEVILLE POWER ADMINISTRATION||PUD NO 1 OF C...</td>\n",
       "      <td>NaN</td>\n",
       "    </tr>\n",
       "    <tr>\n",
       "      <th>16164</th>\n",
       "      <td>EV68630</td>\n",
       "      <td>1FMCU0KZ9N</td>\n",
       "      <td>King</td>\n",
       "      <td>BELLEVUE</td>\n",
       "      <td>WA</td>\n",
       "      <td>98006.0</td>\n",
       "      <td>2022.0</td>\n",
       "      <td>FORD</td>\n",
       "      <td>NaN</td>\n",
       "      <td>Plug-in Hybrid Electric Vehicle (PHEV)</td>\n",
       "      <td>Clean Alternative Fuel Vehicle Eligible</td>\n",
       "      <td>38</td>\n",
       "      <td>0</td>\n",
       "      <td>41.0</td>\n",
       "      <td>187155314</td>\n",
       "      <td>POINT (-122.151342 47.560192)</td>\n",
       "      <td>PUGET SOUND ENERGY INC||CITY OF TACOMA - (WA)</td>\n",
       "      <td>NaN</td>\n",
       "    </tr>\n",
       "    <tr>\n",
       "      <th>22827</th>\n",
       "      <td>EV51468</td>\n",
       "      <td>1FMCU0KZ3N</td>\n",
       "      <td>King</td>\n",
       "      <td>SEATTLE</td>\n",
       "      <td>WA</td>\n",
       "      <td>98103.0</td>\n",
       "      <td>2022.0</td>\n",
       "      <td>FORD</td>\n",
       "      <td>NaN</td>\n",
       "      <td>Plug-in Hybrid Electric Vehicle (PHEV)</td>\n",
       "      <td>Clean Alternative Fuel Vehicle Eligible</td>\n",
       "      <td>38</td>\n",
       "      <td>0</td>\n",
       "      <td>36.0</td>\n",
       "      <td>192317646</td>\n",
       "      <td>POINT (-122.343577 47.672491)</td>\n",
       "      <td>CITY OF SEATTLE - (WA)|CITY OF TACOMA - (WA)</td>\n",
       "      <td>NaN</td>\n",
       "    </tr>\n",
       "    <tr>\n",
       "      <th>26799</th>\n",
       "      <td>EV42602</td>\n",
       "      <td>1FMCU0EZ0N</td>\n",
       "      <td>Pierce</td>\n",
       "      <td>GIG HARBOR</td>\n",
       "      <td>WA</td>\n",
       "      <td>98332.0</td>\n",
       "      <td>2022.0</td>\n",
       "      <td>FORD</td>\n",
       "      <td>NaN</td>\n",
       "      <td>Plug-in Hybrid Electric Vehicle (PHEV)</td>\n",
       "      <td>Clean Alternative Fuel Vehicle Eligible</td>\n",
       "      <td>38</td>\n",
       "      <td>0</td>\n",
       "      <td>26.0</td>\n",
       "      <td>195845597</td>\n",
       "      <td>POINT (-122.599454 47.36582)</td>\n",
       "      <td>BONNEVILLE POWER ADMINISTRATION||CITY OF TACOM...</td>\n",
       "      <td>NaN</td>\n",
       "    </tr>\n",
       "    <tr>\n",
       "      <th>28511</th>\n",
       "      <td>EV51868</td>\n",
       "      <td>1FMCU0KZ1N</td>\n",
       "      <td>Clark</td>\n",
       "      <td>CAMAS</td>\n",
       "      <td>WA</td>\n",
       "      <td>98607.0</td>\n",
       "      <td>2022.0</td>\n",
       "      <td>FORD</td>\n",
       "      <td>NaN</td>\n",
       "      <td>Plug-in Hybrid Electric Vehicle (PHEV)</td>\n",
       "      <td>Clean Alternative Fuel Vehicle Eligible</td>\n",
       "      <td>38</td>\n",
       "      <td>0</td>\n",
       "      <td>18.0</td>\n",
       "      <td>192539574</td>\n",
       "      <td>POINT (-122.408498 45.620943)</td>\n",
       "      <td>BONNEVILLE POWER ADMINISTRATION||PUD NO 1 OF C...</td>\n",
       "      <td>NaN</td>\n",
       "    </tr>\n",
       "    <tr>\n",
       "      <th>31081</th>\n",
       "      <td>EV41495</td>\n",
       "      <td>1FMCU0EZ4N</td>\n",
       "      <td>Pierce</td>\n",
       "      <td>TACOMA</td>\n",
       "      <td>WA</td>\n",
       "      <td>98444.0</td>\n",
       "      <td>2022.0</td>\n",
       "      <td>FORD</td>\n",
       "      <td>NaN</td>\n",
       "      <td>Plug-in Hybrid Electric Vehicle (PHEV)</td>\n",
       "      <td>Clean Alternative Fuel Vehicle Eligible</td>\n",
       "      <td>38</td>\n",
       "      <td>0</td>\n",
       "      <td>29.0</td>\n",
       "      <td>192962717</td>\n",
       "      <td>POINT (-122.447791 47.1543)</td>\n",
       "      <td>BONNEVILLE POWER ADMINISTRATION||CITY OF TACOM...</td>\n",
       "      <td>NaN</td>\n",
       "    </tr>\n",
       "    <tr>\n",
       "      <th>37957</th>\n",
       "      <td>EV35977</td>\n",
       "      <td>1FMCU0LZ5N</td>\n",
       "      <td>Clark</td>\n",
       "      <td>VANCOUVER</td>\n",
       "      <td>WA</td>\n",
       "      <td>98662.0</td>\n",
       "      <td>2022.0</td>\n",
       "      <td>FORD</td>\n",
       "      <td>NaN</td>\n",
       "      <td>Plug-in Hybrid Electric Vehicle (PHEV)</td>\n",
       "      <td>Clean Alternative Fuel Vehicle Eligible</td>\n",
       "      <td>38</td>\n",
       "      <td>0</td>\n",
       "      <td>49.0</td>\n",
       "      <td>193422764</td>\n",
       "      <td>POINT (-122.576308 45.677838)</td>\n",
       "      <td>BONNEVILLE POWER ADMINISTRATION||PUD NO 1 OF C...</td>\n",
       "      <td>NaN</td>\n",
       "    </tr>\n",
       "    <tr>\n",
       "      <th>43801</th>\n",
       "      <td>EV31216</td>\n",
       "      <td>1FMCU0LZXN</td>\n",
       "      <td>Kitsap</td>\n",
       "      <td>BAINBRIDGE ISLAND</td>\n",
       "      <td>WA</td>\n",
       "      <td>98110.0</td>\n",
       "      <td>2022.0</td>\n",
       "      <td>FORD</td>\n",
       "      <td>NaN</td>\n",
       "      <td>Plug-in Hybrid Electric Vehicle (PHEV)</td>\n",
       "      <td>Clean Alternative Fuel Vehicle Eligible</td>\n",
       "      <td>38</td>\n",
       "      <td>0</td>\n",
       "      <td>23.0</td>\n",
       "      <td>193742608</td>\n",
       "      <td>POINT (-122.534497 47.643688)</td>\n",
       "      <td>PUGET SOUND ENERGY INC</td>\n",
       "      <td>NaN</td>\n",
       "    </tr>\n",
       "    <tr>\n",
       "      <th>52689</th>\n",
       "      <td>EV30051</td>\n",
       "      <td>1FMCU0KZ9N</td>\n",
       "      <td>Benton</td>\n",
       "      <td>RICHLAND</td>\n",
       "      <td>WA</td>\n",
       "      <td>99352.0</td>\n",
       "      <td>2022.0</td>\n",
       "      <td>FORD</td>\n",
       "      <td>NaN</td>\n",
       "      <td>Plug-in Hybrid Electric Vehicle (PHEV)</td>\n",
       "      <td>Clean Alternative Fuel Vehicle Eligible</td>\n",
       "      <td>38</td>\n",
       "      <td>0</td>\n",
       "      <td>8.0</td>\n",
       "      <td>193482684</td>\n",
       "      <td>POINT (-119.285025 46.247465)</td>\n",
       "      <td>BONNEVILLE POWER ADMINISTRATION||CITY OF RICHL...</td>\n",
       "      <td>NaN</td>\n",
       "    </tr>\n",
       "    <tr>\n",
       "      <th>58008</th>\n",
       "      <td>EV59640</td>\n",
       "      <td>1FMCU0EZ7N</td>\n",
       "      <td>Pierce</td>\n",
       "      <td>BONNEY LAKE</td>\n",
       "      <td>WA</td>\n",
       "      <td>98391.0</td>\n",
       "      <td>2022.0</td>\n",
       "      <td>FORD</td>\n",
       "      <td>NaN</td>\n",
       "      <td>Plug-in Hybrid Electric Vehicle (PHEV)</td>\n",
       "      <td>Clean Alternative Fuel Vehicle Eligible</td>\n",
       "      <td>38</td>\n",
       "      <td>0</td>\n",
       "      <td>31.0</td>\n",
       "      <td>193129653</td>\n",
       "      <td>POINT (-122.170798 47.184615)</td>\n",
       "      <td>PUGET SOUND ENERGY INC||CITY OF TACOMA - (WA)</td>\n",
       "      <td>NaN</td>\n",
       "    </tr>\n",
       "  </tbody>\n",
       "</table>\n",
       "</div>"
      ],
      "text/plain": [
       "            ID  VIN (1-10)     County               City State  ZIP Code  \\\n",
       "2714   EV35011  1FMCU0LZ4N       King       YARROW POINT    WA   98004.0   \n",
       "4081   EV55301  1FMCU0KZ4N     Island         OAK HARBOR    WA   98277.0   \n",
       "13866  EV20774  1FMCU0LZ2N  Jefferson        PORT LUDLOW    WA   98365.0   \n",
       "14787  EV21204  1FMCU0KZ2N      Clark              CAMAS    WA   98607.0   \n",
       "16164  EV68630  1FMCU0KZ9N       King           BELLEVUE    WA   98006.0   \n",
       "22827  EV51468  1FMCU0KZ3N       King            SEATTLE    WA   98103.0   \n",
       "26799  EV42602  1FMCU0EZ0N     Pierce         GIG HARBOR    WA   98332.0   \n",
       "28511  EV51868  1FMCU0KZ1N      Clark              CAMAS    WA   98607.0   \n",
       "31081  EV41495  1FMCU0EZ4N     Pierce             TACOMA    WA   98444.0   \n",
       "37957  EV35977  1FMCU0LZ5N      Clark          VANCOUVER    WA   98662.0   \n",
       "43801  EV31216  1FMCU0LZXN     Kitsap  BAINBRIDGE ISLAND    WA   98110.0   \n",
       "52689  EV30051  1FMCU0KZ9N     Benton           RICHLAND    WA   99352.0   \n",
       "58008  EV59640  1FMCU0EZ7N     Pierce        BONNEY LAKE    WA   98391.0   \n",
       "\n",
       "       Model Year  Make Model                   Electric Vehicle Type  \\\n",
       "2714       2022.0  FORD   NaN  Plug-in Hybrid Electric Vehicle (PHEV)   \n",
       "4081       2022.0  FORD   NaN  Plug-in Hybrid Electric Vehicle (PHEV)   \n",
       "13866      2022.0  FORD   NaN  Plug-in Hybrid Electric Vehicle (PHEV)   \n",
       "14787      2022.0  FORD   NaN  Plug-in Hybrid Electric Vehicle (PHEV)   \n",
       "16164      2022.0  FORD   NaN  Plug-in Hybrid Electric Vehicle (PHEV)   \n",
       "22827      2022.0  FORD   NaN  Plug-in Hybrid Electric Vehicle (PHEV)   \n",
       "26799      2022.0  FORD   NaN  Plug-in Hybrid Electric Vehicle (PHEV)   \n",
       "28511      2022.0  FORD   NaN  Plug-in Hybrid Electric Vehicle (PHEV)   \n",
       "31081      2022.0  FORD   NaN  Plug-in Hybrid Electric Vehicle (PHEV)   \n",
       "37957      2022.0  FORD   NaN  Plug-in Hybrid Electric Vehicle (PHEV)   \n",
       "43801      2022.0  FORD   NaN  Plug-in Hybrid Electric Vehicle (PHEV)   \n",
       "52689      2022.0  FORD   NaN  Plug-in Hybrid Electric Vehicle (PHEV)   \n",
       "58008      2022.0  FORD   NaN  Plug-in Hybrid Electric Vehicle (PHEV)   \n",
       "\n",
       "      Clean Alternative Fuel Vehicle (CAFV) Eligibility  Electric Range  \\\n",
       "2714            Clean Alternative Fuel Vehicle Eligible              38   \n",
       "4081            Clean Alternative Fuel Vehicle Eligible              38   \n",
       "13866           Clean Alternative Fuel Vehicle Eligible              38   \n",
       "14787           Clean Alternative Fuel Vehicle Eligible              38   \n",
       "16164           Clean Alternative Fuel Vehicle Eligible              38   \n",
       "22827           Clean Alternative Fuel Vehicle Eligible              38   \n",
       "26799           Clean Alternative Fuel Vehicle Eligible              38   \n",
       "28511           Clean Alternative Fuel Vehicle Eligible              38   \n",
       "31081           Clean Alternative Fuel Vehicle Eligible              38   \n",
       "37957           Clean Alternative Fuel Vehicle Eligible              38   \n",
       "43801           Clean Alternative Fuel Vehicle Eligible              38   \n",
       "52689           Clean Alternative Fuel Vehicle Eligible              38   \n",
       "58008           Clean Alternative Fuel Vehicle Eligible              38   \n",
       "\n",
       "       Base MSRP  Legislative District  DOL Vehicle ID  \\\n",
       "2714           0                  48.0       192602371   \n",
       "4081           0                  10.0       193046381   \n",
       "13866          0                  24.0       190318901   \n",
       "14787          0                  18.0       195263764   \n",
       "16164          0                  41.0       187155314   \n",
       "22827          0                  36.0       192317646   \n",
       "26799          0                  26.0       195845597   \n",
       "28511          0                  18.0       192539574   \n",
       "31081          0                  29.0       192962717   \n",
       "37957          0                  49.0       193422764   \n",
       "43801          0                  23.0       193742608   \n",
       "52689          0                   8.0       193482684   \n",
       "58008          0                  31.0       193129653   \n",
       "\n",
       "                    Vehicle Location  \\\n",
       "2714   POINT (-122.203169 47.619011)   \n",
       "4081    POINT (-122.63841 48.310313)   \n",
       "13866   POINT (-122.69441 47.905058)   \n",
       "14787  POINT (-122.408498 45.620943)   \n",
       "16164  POINT (-122.151342 47.560192)   \n",
       "22827  POINT (-122.343577 47.672491)   \n",
       "26799   POINT (-122.599454 47.36582)   \n",
       "28511  POINT (-122.408498 45.620943)   \n",
       "31081    POINT (-122.447791 47.1543)   \n",
       "37957  POINT (-122.576308 45.677838)   \n",
       "43801  POINT (-122.534497 47.643688)   \n",
       "52689  POINT (-119.285025 46.247465)   \n",
       "58008  POINT (-122.170798 47.184615)   \n",
       "\n",
       "                                        Electric Utility  Expected Price ($1k)  \n",
       "2714       PUGET SOUND ENERGY INC||CITY OF TACOMA - (WA)                   NaN  \n",
       "4081                              PUGET SOUND ENERGY INC                   NaN  \n",
       "13866  BONNEVILLE POWER ADMINISTRATION||PUGET SOUND E...                   NaN  \n",
       "14787  BONNEVILLE POWER ADMINISTRATION||PUD NO 1 OF C...                   NaN  \n",
       "16164      PUGET SOUND ENERGY INC||CITY OF TACOMA - (WA)                   NaN  \n",
       "22827       CITY OF SEATTLE - (WA)|CITY OF TACOMA - (WA)                   NaN  \n",
       "26799  BONNEVILLE POWER ADMINISTRATION||CITY OF TACOM...                   NaN  \n",
       "28511  BONNEVILLE POWER ADMINISTRATION||PUD NO 1 OF C...                   NaN  \n",
       "31081  BONNEVILLE POWER ADMINISTRATION||CITY OF TACOM...                   NaN  \n",
       "37957  BONNEVILLE POWER ADMINISTRATION||PUD NO 1 OF C...                   NaN  \n",
       "43801                             PUGET SOUND ENERGY INC                   NaN  \n",
       "52689  BONNEVILLE POWER ADMINISTRATION||CITY OF RICHL...                   NaN  \n",
       "58008      PUGET SOUND ENERGY INC||CITY OF TACOMA - (WA)                   NaN  "
      ]
     },
     "execution_count": 30,
     "metadata": {},
     "output_type": "execute_result"
    }
   ],
   "source": [
    "df[df[\"Expected Price ($1k)\"].isnull()]"
   ]
  },
  {
   "cell_type": "markdown",
   "id": "8a88cbb6-2ba0-40c0-a81b-c5e712732840",
   "metadata": {},
   "source": [
    "We can see here that the prices for Vehicles with Make of **FORD** are missing"
   ]
  },
  {
   "cell_type": "code",
   "execution_count": 33,
   "id": "b86ddf22-5329-4069-85eb-7db624fae43d",
   "metadata": {},
   "outputs": [],
   "source": [
    "df.dropna(subset=[\"Expected Price ($1k)\"], inplace=True)"
   ]
  },
  {
   "cell_type": "code",
   "execution_count": 35,
   "id": "f49aee74-46e1-49fe-90e2-0d140a7f3e05",
   "metadata": {},
   "outputs": [],
   "source": [
    "df = df.dropna()"
   ]
  },
  {
   "cell_type": "code",
   "execution_count": 37,
   "id": "fadc6957-9556-4b71-ad74-c9ddb4134a86",
   "metadata": {
    "scrolled": true
   },
   "outputs": [
    {
     "data": {
      "text/plain": [
       "ID                                                   0\n",
       "VIN (1-10)                                           0\n",
       "County                                               0\n",
       "City                                                 0\n",
       "State                                                0\n",
       "ZIP Code                                             0\n",
       "Model Year                                           0\n",
       "Make                                                 0\n",
       "Model                                                0\n",
       "Electric Vehicle Type                                0\n",
       "Clean Alternative Fuel Vehicle (CAFV) Eligibility    0\n",
       "Electric Range                                       0\n",
       "Base MSRP                                            0\n",
       "Legislative District                                 0\n",
       "DOL Vehicle ID                                       0\n",
       "Vehicle Location                                     0\n",
       "Electric Utility                                     0\n",
       "Expected Price ($1k)                                 0\n",
       "dtype: int64"
      ]
     },
     "execution_count": 37,
     "metadata": {},
     "output_type": "execute_result"
    }
   ],
   "source": [
    "df.isnull().sum()"
   ]
  },
  {
   "cell_type": "code",
   "execution_count": 39,
   "id": "4c4a922f-2895-4ea8-a222-d5ea7d0b6cb3",
   "metadata": {},
   "outputs": [
    {
     "data": {
      "text/plain": [
       "0"
      ]
     },
     "execution_count": 39,
     "metadata": {},
     "output_type": "execute_result"
    }
   ],
   "source": [
    "df.duplicated().sum()"
   ]
  },
  {
   "cell_type": "markdown",
   "id": "00b4ce93-2bbf-48ae-8eec-2f4dff343603",
   "metadata": {},
   "source": [
    "There are no duplicates in this dataset"
   ]
  },
  {
   "cell_type": "code",
   "execution_count": 42,
   "id": "de78144f-a384-48ca-8355-823dba16df19",
   "metadata": {},
   "outputs": [
    {
     "data": {
      "text/plain": [
       "(63081, 18)"
      ]
     },
     "execution_count": 42,
     "metadata": {},
     "output_type": "execute_result"
    }
   ],
   "source": [
    "df.shape"
   ]
  },
  {
   "cell_type": "code",
   "execution_count": 44,
   "id": "4938be8e-16da-4126-a588-84dff3e06717",
   "metadata": {
    "scrolled": true
   },
   "outputs": [
    {
     "data": {
      "text/plain": [
       "Make\n",
       "TESLA                   27398\n",
       "NISSAN                   8548\n",
       "CHEVROLET                6494\n",
       "FORD                     3752\n",
       "KIA                      3005\n",
       "BMW                      2649\n",
       "TOYOTA                   2633\n",
       "AUDI                     1236\n",
       "VOLKSWAGEN               1183\n",
       "CHRYSLER                 1069\n",
       "HYUNDAI                   871\n",
       "VOLVO                     676\n",
       "FIAT                      549\n",
       "HONDA                     517\n",
       "PORSCHE                   453\n",
       "JEEP                      423\n",
       "MITSUBISHI                370\n",
       "MINI                      295\n",
       "MERCEDES-BENZ             242\n",
       "SMART                     190\n",
       "POLESTAR                  162\n",
       "JAGUAR                    138\n",
       "CADILLAC                   67\n",
       "LINCOLN                    59\n",
       "SUBARU                     32\n",
       "LAND ROVER                 26\n",
       "RIVIAN                     26\n",
       "FISKER                     10\n",
       "LUCID MOTORS                2\n",
       "AZURE DYNAMICS              2\n",
       "TH!NK                       1\n",
       "DODGE                       1\n",
       "WHEEGO ELECTRIC CARS        1\n",
       "BENTLEY                     1\n",
       "Name: count, dtype: int64"
      ]
     },
     "execution_count": 44,
     "metadata": {},
     "output_type": "execute_result"
    }
   ],
   "source": [
    "df[\"Make\"].value_counts()"
   ]
  },
  {
   "cell_type": "code",
   "execution_count": 46,
   "id": "7da238c5-216a-4b2a-852e-7bedbabb58a5",
   "metadata": {},
   "outputs": [
    {
     "data": {
      "text/plain": [
       "Model\n",
       "MODEL 3                 12889\n",
       "LEAF                     8548\n",
       "MODEL Y                  7483\n",
       "MODEL S                  4629\n",
       "VOLT                     3326\n",
       "                        ...  \n",
       "A8 E                        1\n",
       "LIFE                        1\n",
       "BENTAYGA                    1\n",
       "918 SPYDER                  1\n",
       "PRIUS PLUG-IN HYBRID        1\n",
       "Name: count, Length: 107, dtype: int64"
      ]
     },
     "execution_count": 46,
     "metadata": {},
     "output_type": "execute_result"
    }
   ],
   "source": [
    "df[\"Model\"].value_counts()"
   ]
  },
  {
   "cell_type": "code",
   "execution_count": 48,
   "id": "fd0eade7-3163-4bc4-9189-a367b9aa4dff",
   "metadata": {
    "scrolled": true
   },
   "outputs": [
    {
     "data": {
      "text/plain": [
       "array(['TESLA', 'NISSAN', 'BMW', 'CHEVROLET', 'HYUNDAI', 'VOLKSWAGEN',\n",
       "       'LAND ROVER', 'AUDI', 'KIA', 'TOYOTA', 'JEEP', 'CHRYSLER',\n",
       "       'JAGUAR', 'FORD', 'HONDA', 'POLESTAR', 'SUBARU', 'VOLVO', 'FIAT',\n",
       "       'SMART', 'PORSCHE', 'MINI', 'MITSUBISHI', 'MERCEDES-BENZ',\n",
       "       'LINCOLN', 'TH!NK', 'CADILLAC', 'DODGE', 'RIVIAN', 'FISKER',\n",
       "       'LUCID MOTORS', 'AZURE DYNAMICS', 'WHEEGO ELECTRIC CARS',\n",
       "       'BENTLEY'], dtype=object)"
      ]
     },
     "execution_count": 48,
     "metadata": {},
     "output_type": "execute_result"
    }
   ],
   "source": [
    "df[\"Make\"].unique()"
   ]
  },
  {
   "cell_type": "code",
   "execution_count": 50,
   "id": "bcf4f21d-7414-4fd4-bd31-2ee5f7d51411",
   "metadata": {},
   "outputs": [
    {
     "data": {
      "text/plain": [
       "array(['MODEL 3', 'LEAF', 'I3', 'VOLT', 'BOLT EV',\n",
       "       'SONATA PLUG-IN HYBRID', 'MODEL S', 'ID.4', 'MODEL Y',\n",
       "       'RANGE ROVER SPORT', 'Q5 E', 'NIRO', 'SOUL EV', 'SPARK', 'MODEL X',\n",
       "       'RAV4 PRIME', 'WRANGLER', 'PACIFICA', 'Q5', 'I-PACE', 'C-MAX',\n",
       "       'FUSION', 'CLARITY', 'E-GOLF', 'X5', 'I8', 'PRIUS PRIME', 'PS2',\n",
       "       'CROSSTREK HYBRID AWD', 'XC60 AWD PHEV', '500', 'E-TRON',\n",
       "       'PRIUS PLUG-IN', 'A3', 'FOCUS', 'MACH-E', '330E', 'F-150', 'X3',\n",
       "       'FORTWO ELECTRIC DRIVE', 'PANAMERA', 'NIRO ELECTRIC',\n",
       "       'KONA ELECTRIC', 'SORENTO', 'XC40', 'EV6', 'NIRO PLUG-IN HYBRID',\n",
       "       'HARDTOP', 'OUTLANDER', 'RAV4', 'GLC-CLASS', 'CAYENNE', 'XC90',\n",
       "       'COUNTRYMAN', 'SANTA FE', 'XC60 AWD', 'SONATA', 'S60', 'AVIATOR',\n",
       "       'B-CLASS', 'CITY', 'RS E-TRON', 'ELR', 'TAYCAN', 'FORTWO', 'SOUL',\n",
       "       'EQ FORTWO', 'OPTIMA', 'XC60', 'XC90 AWD', 'IONIQ', 'ROADSTER',\n",
       "       'CARAVAN', 'E-TRON SPORTBACK', 'R1T', 'KONA', '530E XDRIVE',\n",
       "       'IONIQ 5', '530E', 'I-MIEV', 'GLE-CLASS', 'C-CLASS', 'S-CLASS',\n",
       "       'OPTIMA PLUG-IN HYBRID', 'CT6', 'A7', '745E', 'EQS-CLASS', 'S90',\n",
       "       'RANGER', 'ESCAPE', 'KARMA', 'CORSAIR', 'XC90 AWD PHEV',\n",
       "       'RANGE ROVER', '740E XDRIVE', 'C40', 'ACCORD', 'LUCID AIR',\n",
       "       'TUCSON', 'TRANSIT CONNECT ELECTRIC', '$16.36K', 'A8 E', 'LIFE',\n",
       "       'BENTAYGA', '918 SPYDER', 'PRIUS PLUG-IN HYBRID'], dtype=object)"
      ]
     },
     "execution_count": 50,
     "metadata": {},
     "output_type": "execute_result"
    }
   ],
   "source": [
    "df[\"Model\"].unique()"
   ]
  },
  {
   "cell_type": "markdown",
   "id": "f9f068f9-b362-4c08-9864-b79fd621d961",
   "metadata": {},
   "source": [
    "##### Let's see the distribution of prices across the model and make"
   ]
  },
  {
   "cell_type": "code",
   "execution_count": 53,
   "id": "da195193-940e-422e-a534-dce84d083f1f",
   "metadata": {},
   "outputs": [
    {
     "data": {
      "image/png": "[encoded data removed]",
      "text/plain": [
       "<Figure size 1800x500 with 1 Axes>"
      ]
     },
     "metadata": {},
     "output_type": "display_data"
    }
   ],
   "source": [
    "plt.figure(figsize=(18, 5))\n",
    "sns.boxplot(x='Make', y='Expected Price ($1k)', data=df)\n",
    "plt.title('Price Distribution Across Makes')\n",
    "plt.xticks(rotation=45)  \n",
    "plt.show()\n"
   ]
  },
  {
   "cell_type": "markdown",
   "id": "e061de59-254a-42d0-b88a-b8b9dfc60bc2",
   "metadata": {},
   "source": [
    "#### Feature Engineering"
   ]
  },
  {
   "cell_type": "markdown",
   "id": "7f831291-e789-4287-a9e0-2c7743f635d8",
   "metadata": {},
   "source": [
    "##### Using Electric Range as a Proxy for Mileage"
   ]
  },
  {
   "cell_type": "code",
   "execution_count": 57,
   "id": "3a364f89-6f93-4fb4-bfe8-e880818b7c1f",
   "metadata": {},
   "outputs": [],
   "source": [
    "df['Price per Mile'] = df['Expected Price ($1k)'] / df['Electric Range']"
   ]
  },
  {
   "cell_type": "markdown",
   "id": "b1af093a-c443-402e-bc4f-bade719e11e1",
   "metadata": {},
   "source": [
    "##### Changing the datatype of model year"
   ]
  },
  {
   "cell_type": "code",
   "execution_count": 60,
   "id": "1d0068f5-d7ef-45dd-9333-65443fa526f9",
   "metadata": {},
   "outputs": [],
   "source": [
    "df[\"Model Year\"] = df[\"Model Year\"].astype(int)"
   ]
  },
  {
   "cell_type": "markdown",
   "id": "40f0e98b-f217-4e58-babb-a34105589dcf",
   "metadata": {},
   "source": [
    "##### Age of the vehicle"
   ]
  },
  {
   "cell_type": "code",
   "execution_count": 63,
   "id": "8b27d197-cf07-4dc7-8725-f2d4e7aa9801",
   "metadata": {},
   "outputs": [],
   "source": [
    "current_year = 2024\n",
    "df['Age of Vehicle'] = current_year - df['Model Year']"
   ]
  },
  {
   "cell_type": "markdown",
   "id": "873c3a5a-7e0c-4fa7-ad28-dd19da868bd4",
   "metadata": {},
   "source": [
    "#### Encoding categorical features"
   ]
  },
  {
   "cell_type": "markdown",
   "id": "36554d0c-aef2-4011-8ab8-f9e714b70192",
   "metadata": {},
   "source": [
    "##### Label Encoding method assigns a unique integer to each category. "
   ]
  },
  {
   "cell_type": "code",
   "execution_count": 67,
   "id": "4e0e0647-6c13-46ad-8f91-705f925ab62c",
   "metadata": {},
   "outputs": [
    {
     "data": {
      "text/plain": [
       "Clean Alternative Fuel Vehicle (CAFV) Eligibility\n",
       "Clean Alternative Fuel Vehicle Eligible                         39172\n",
       "Eligibility unknown as battery range has not been researched    14657\n",
       "Not eligible due to low battery range                            9252\n",
       "Name: count, dtype: int64"
      ]
     },
     "execution_count": 67,
     "metadata": {},
     "output_type": "execute_result"
    }
   ],
   "source": [
    "df[\"Clean Alternative Fuel Vehicle (CAFV) Eligibility\"].value_counts()"
   ]
  },
  {
   "cell_type": "code",
   "execution_count": 69,
   "id": "1c7de6d5-e269-407e-94f8-326c15ed9c72",
   "metadata": {},
   "outputs": [],
   "source": [
    "label_encoder = LabelEncoder()\n",
    "df['(CAFV)_Eligibility_encoded'] = label_encoder.fit_transform(df['Clean Alternative Fuel Vehicle (CAFV) Eligibility'])"
   ]
  },
  {
   "cell_type": "code",
   "execution_count": 71,
   "id": "9e848c21-634f-48c1-bb0b-fd7dc32386f8",
   "metadata": {
    "scrolled": true
   },
   "outputs": [
    {
     "data": {
      "text/plain": [
       "Electric Vehicle Type\n",
       "Battery Electric Vehicle (BEV)            47001\n",
       "Plug-in Hybrid Electric Vehicle (PHEV)    16080\n",
       "Name: count, dtype: int64"
      ]
     },
     "execution_count": 71,
     "metadata": {},
     "output_type": "execute_result"
    }
   ],
   "source": [
    "df[\"Electric Vehicle Type\"].value_counts()"
   ]
  },
  {
   "cell_type": "code",
   "execution_count": 73,
   "id": "3ae2fddf-8532-412b-9b6d-9b13954ae3ba",
   "metadata": {},
   "outputs": [],
   "source": [
    "label_encoder = LabelEncoder()\n",
    "df['EV_Type_encoded'] = label_encoder.fit_transform(df['Electric Vehicle Type'])"
   ]
  },
  {
   "cell_type": "markdown",
   "id": "70de829a-ec72-42ca-902e-fcd1ed8de417",
   "metadata": {},
   "source": [
    "##### Target Encoding will be suitable for **Model** and **Make** features since there is a large number of categories and label or one-hot encoding would result in high dimensionality."
   ]
  },
  {
   "cell_type": "code",
   "execution_count": 76,
   "id": "899714e9-eb35-402c-b441-ffc105eab68c",
   "metadata": {},
   "outputs": [],
   "source": [
    "df['Model_encoded'] = df.groupby('Model')['Expected Price ($1k)'].transform('mean')"
   ]
  },
  {
   "cell_type": "code",
   "execution_count": 78,
   "id": "efd6dcf3-b165-476c-961b-66d9963ddf3c",
   "metadata": {},
   "outputs": [],
   "source": [
    "df['Make_encoded'] = df.groupby('Make')['Expected Price ($1k)'].transform('mean')"
   ]
  },
  {
   "cell_type": "markdown",
   "id": "27929f0f-7c06-4865-be94-62d7fbaa80a3",
   "metadata": {},
   "source": [
    "### Combining the data wrangling steps into one function for a test CSV file. "
   ]
  },
  {
   "cell_type": "code",
   "execution_count": 81,
   "id": "31d191a5-be5a-459c-ac0e-a8ffaddd52dd",
   "metadata": {},
   "outputs": [],
   "source": [
    "def wrangle(file_path):\n",
    "    # Load the dataset\n",
    "    df = pd.read_csv(file_path)\n",
    "    \n",
    "    # Clean and convert 'Expected Price ($1k)' to numeric\n",
    "    df[\"Expected Price ($1k)\"] = df[\"Expected Price ($1k)\"].replace(['N/', 'NA', ''], np.nan)\n",
    "    df[\"Expected Price ($1k)\"] = pd.to_numeric(df[\"Expected Price ($1k)\"], errors='coerce')\n",
    "    \n",
    "    # Drop rows with missing values\n",
    "    df = df.dropna()\n",
    "    \n",
    "    # Create 'Price per Mile' feature, handle divide by zero with np.where\n",
    "    df['Price per Mile'] = np.where(df['Electric Range'] == 0, np.nan, df['Expected Price ($1k)'] / df['Electric Range'])\n",
    "    \n",
    "    # Convert 'Model Year' to integer and calculate vehicle age\n",
    "    df[\"Model Year\"] = df[\"Model Year\"].astype(int)\n",
    "    current_year = 2024\n",
    "    df['Age of Vehicle'] = current_year - df['Model Year']\n",
    "    \n",
    "    # Encode categorical variables\n",
    "    label_encoder = LabelEncoder()\n",
    "    df['(CAFV)_Eligibility_encoded'] = label_encoder.fit_transform(df['Clean Alternative Fuel Vehicle (CAFV) Eligibility'])\n",
    "    df['EV_Type_encoded'] = label_encoder.fit_transform(df['Electric Vehicle Type'])\n",
    "    \n",
    "    # Aggregate and encode 'Model' and 'Make' based on mean 'Expected Price'\n",
    "    df['Model_encoded'] = df.groupby('Model')['Expected Price ($1k)'].transform('mean')\n",
    "    df['Make_encoded'] = df.groupby('Make')['Expected Price ($1k)'].transform('mean')\n",
    "    \n",
    "    return df\n"
   ]
  },
  {
   "cell_type": "markdown",
   "id": "aa1cfa77-3a24-450c-9779-6b8e2d3e4150",
   "metadata": {},
   "source": [
    "#### Checking relationships between the target vector and the feature matrix"
   ]
  },
  {
   "cell_type": "code",
   "execution_count": 84,
   "id": "d3d23d64-38bf-4962-a335-2e966a7bdd2a",
   "metadata": {},
   "outputs": [],
   "source": [
    "selected_columns = ['Expected Price ($1k)', 'Model Year','Price per Mile', 'Electric Range', 'Age of Vehicle', 'Base MSRP', 'Model_encoded',\n",
    "       'Make_encoded', 'EV_Type_encoded', '(CAFV)_Eligibility_encoded']\n",
    "\n",
    "correlation_matrix = df[selected_columns].corr()"
   ]
  },
  {
   "cell_type": "code",
   "execution_count": 86,
   "id": "28dc7d66-6395-4ae5-bb68-d4edb795a9bb",
   "metadata": {},
   "outputs": [
    {
     "data": {
      "text/html": [
       "<div>\n",
       "<style scoped>\n",
       "    .dataframe tbody tr th:only-of-type {\n",
       "        vertical-align: middle;\n",
       "    }\n",
       "\n",
       "    .dataframe tbody tr th {\n",
       "        vertical-align: top;\n",
       "    }\n",
       "\n",
       "    .dataframe thead th {\n",
       "        text-align: right;\n",
       "    }\n",
       "</style>\n",
       "<table border=\"1\" class=\"dataframe\">\n",
       "  <thead>\n",
       "    <tr style=\"text-align: right;\">\n",
       "      <th></th>\n",
       "      <th>Expected Price ($1k)</th>\n",
       "      <th>Model Year</th>\n",
       "      <th>Price per Mile</th>\n",
       "      <th>Electric Range</th>\n",
       "      <th>Age of Vehicle</th>\n",
       "      <th>Base MSRP</th>\n",
       "      <th>Model_encoded</th>\n",
       "      <th>Make_encoded</th>\n",
       "      <th>EV_Type_encoded</th>\n",
       "      <th>(CAFV)_Eligibility_encoded</th>\n",
       "    </tr>\n",
       "  </thead>\n",
       "  <tbody>\n",
       "    <tr>\n",
       "      <th>Expected Price ($1k)</th>\n",
       "      <td>1.000000</td>\n",
       "      <td>0.537750</td>\n",
       "      <td>0.065326</td>\n",
       "      <td>0.213697</td>\n",
       "      <td>-0.537750</td>\n",
       "      <td>-0.080139</td>\n",
       "      <td>0.893926</td>\n",
       "      <td>0.823756</td>\n",
       "      <td>-0.398235</td>\n",
       "      <td>-0.054440</td>\n",
       "    </tr>\n",
       "    <tr>\n",
       "      <th>Model Year</th>\n",
       "      <td>0.537750</td>\n",
       "      <td>1.000000</td>\n",
       "      <td>0.064622</td>\n",
       "      <td>-0.081397</td>\n",
       "      <td>-1.000000</td>\n",
       "      <td>-0.219215</td>\n",
       "      <td>0.458205</td>\n",
       "      <td>0.375717</td>\n",
       "      <td>-0.203163</td>\n",
       "      <td>0.202217</td>\n",
       "    </tr>\n",
       "    <tr>\n",
       "      <th>Price per Mile</th>\n",
       "      <td>0.065326</td>\n",
       "      <td>0.064622</td>\n",
       "      <td>1.000000</td>\n",
       "      <td>-0.516125</td>\n",
       "      <td>-0.064622</td>\n",
       "      <td>0.162233</td>\n",
       "      <td>-0.001154</td>\n",
       "      <td>-0.075550</td>\n",
       "      <td>0.602248</td>\n",
       "      <td>0.663577</td>\n",
       "    </tr>\n",
       "    <tr>\n",
       "      <th>Electric Range</th>\n",
       "      <td>0.213697</td>\n",
       "      <td>-0.081397</td>\n",
       "      <td>-0.516125</td>\n",
       "      <td>1.000000</td>\n",
       "      <td>0.081397</td>\n",
       "      <td>0.053560</td>\n",
       "      <td>0.298132</td>\n",
       "      <td>0.335486</td>\n",
       "      <td>-0.425891</td>\n",
       "      <td>-0.659253</td>\n",
       "    </tr>\n",
       "    <tr>\n",
       "      <th>Age of Vehicle</th>\n",
       "      <td>-0.537750</td>\n",
       "      <td>-1.000000</td>\n",
       "      <td>-0.064622</td>\n",
       "      <td>0.081397</td>\n",
       "      <td>1.000000</td>\n",
       "      <td>0.219215</td>\n",
       "      <td>-0.458205</td>\n",
       "      <td>-0.375717</td>\n",
       "      <td>0.203163</td>\n",
       "      <td>-0.202217</td>\n",
       "    </tr>\n",
       "    <tr>\n",
       "      <th>Base MSRP</th>\n",
       "      <td>-0.080139</td>\n",
       "      <td>-0.219215</td>\n",
       "      <td>0.162233</td>\n",
       "      <td>0.053560</td>\n",
       "      <td>0.219215</td>\n",
       "      <td>1.000000</td>\n",
       "      <td>0.060325</td>\n",
       "      <td>0.054581</td>\n",
       "      <td>0.046238</td>\n",
       "      <td>0.032874</td>\n",
       "    </tr>\n",
       "    <tr>\n",
       "      <th>Model_encoded</th>\n",
       "      <td>0.893926</td>\n",
       "      <td>0.458205</td>\n",
       "      <td>-0.001154</td>\n",
       "      <td>0.298132</td>\n",
       "      <td>-0.458205</td>\n",
       "      <td>0.060325</td>\n",
       "      <td>1.000000</td>\n",
       "      <td>0.921503</td>\n",
       "      <td>-0.442588</td>\n",
       "      <td>-0.098326</td>\n",
       "    </tr>\n",
       "    <tr>\n",
       "      <th>Make_encoded</th>\n",
       "      <td>0.823756</td>\n",
       "      <td>0.375717</td>\n",
       "      <td>-0.075550</td>\n",
       "      <td>0.335486</td>\n",
       "      <td>-0.375717</td>\n",
       "      <td>0.054581</td>\n",
       "      <td>0.921503</td>\n",
       "      <td>1.000000</td>\n",
       "      <td>-0.402512</td>\n",
       "      <td>-0.090081</td>\n",
       "    </tr>\n",
       "    <tr>\n",
       "      <th>EV_Type_encoded</th>\n",
       "      <td>-0.398235</td>\n",
       "      <td>-0.203163</td>\n",
       "      <td>0.602248</td>\n",
       "      <td>-0.425891</td>\n",
       "      <td>0.203163</td>\n",
       "      <td>0.046238</td>\n",
       "      <td>-0.442588</td>\n",
       "      <td>-0.402512</td>\n",
       "      <td>1.000000</td>\n",
       "      <td>0.495997</td>\n",
       "    </tr>\n",
       "    <tr>\n",
       "      <th>(CAFV)_Eligibility_encoded</th>\n",
       "      <td>-0.054440</td>\n",
       "      <td>0.202217</td>\n",
       "      <td>0.663577</td>\n",
       "      <td>-0.659253</td>\n",
       "      <td>-0.202217</td>\n",
       "      <td>0.032874</td>\n",
       "      <td>-0.098326</td>\n",
       "      <td>-0.090081</td>\n",
       "      <td>0.495997</td>\n",
       "      <td>1.000000</td>\n",
       "    </tr>\n",
       "  </tbody>\n",
       "</table>\n",
       "</div>"
      ],
      "text/plain": [
       "                            Expected Price ($1k)  Model Year  Price per Mile  \\\n",
       "Expected Price ($1k)                    1.000000    0.537750        0.065326   \n",
       "Model Year                              0.537750    1.000000        0.064622   \n",
       "Price per Mile                          0.065326    0.064622        1.000000   \n",
       "Electric Range                          0.213697   -0.081397       -0.516125   \n",
       "Age of Vehicle                         -0.537750   -1.000000       -0.064622   \n",
       "Base MSRP                              -0.080139   -0.219215        0.162233   \n",
       "Model_encoded                           0.893926    0.458205       -0.001154   \n",
       "Make_encoded                            0.823756    0.375717       -0.075550   \n",
       "EV_Type_encoded                        -0.398235   -0.203163        0.602248   \n",
       "(CAFV)_Eligibility_encoded             -0.054440    0.202217        0.663577   \n",
       "\n",
       "                            Electric Range  Age of Vehicle  Base MSRP  \\\n",
       "Expected Price ($1k)              0.213697       -0.537750  -0.080139   \n",
       "Model Year                       -0.081397       -1.000000  -0.219215   \n",
       "Price per Mile                   -0.516125       -0.064622   0.162233   \n",
       "Electric Range                    1.000000        0.081397   0.053560   \n",
       "Age of Vehicle                    0.081397        1.000000   0.219215   \n",
       "Base MSRP                         0.053560        0.219215   1.000000   \n",
       "Model_encoded                     0.298132       -0.458205   0.060325   \n",
       "Make_encoded                      0.335486       -0.375717   0.054581   \n",
       "EV_Type_encoded                  -0.425891        0.203163   0.046238   \n",
       "(CAFV)_Eligibility_encoded       -0.659253       -0.202217   0.032874   \n",
       "\n",
       "                            Model_encoded  Make_encoded  EV_Type_encoded  \\\n",
       "Expected Price ($1k)             0.893926      0.823756        -0.398235   \n",
       "Model Year                       0.458205      0.375717        -0.203163   \n",
       "Price per Mile                  -0.001154     -0.075550         0.602248   \n",
       "Electric Range                   0.298132      0.335486        -0.425891   \n",
       "Age of Vehicle                  -0.458205     -0.375717         0.203163   \n",
       "Base MSRP                        0.060325      0.054581         0.046238   \n",
       "Model_encoded                    1.000000      0.921503        -0.442588   \n",
       "Make_encoded                     0.921503      1.000000        -0.402512   \n",
       "EV_Type_encoded                 -0.442588     -0.402512         1.000000   \n",
       "(CAFV)_Eligibility_encoded      -0.098326     -0.090081         0.495997   \n",
       "\n",
       "                            (CAFV)_Eligibility_encoded  \n",
       "Expected Price ($1k)                         -0.054440  \n",
       "Model Year                                    0.202217  \n",
       "Price per Mile                                0.663577  \n",
       "Electric Range                               -0.659253  \n",
       "Age of Vehicle                               -0.202217  \n",
       "Base MSRP                                     0.032874  \n",
       "Model_encoded                                -0.098326  \n",
       "Make_encoded                                 -0.090081  \n",
       "EV_Type_encoded                               0.495997  \n",
       "(CAFV)_Eligibility_encoded                    1.000000  "
      ]
     },
     "execution_count": 86,
     "metadata": {},
     "output_type": "execute_result"
    }
   ],
   "source": [
    "correlation_matrix"
   ]
  },
  {
   "cell_type": "code",
   "execution_count": 88,
   "id": "8188017d-e40e-4da5-9e4a-e37778a05dbd",
   "metadata": {},
   "outputs": [
    {
     "data": {
      "image/png": "[encoded data removed]",
      "text/plain": [
       "<Figure size 1500x600 with 2 Axes>"
      ]
     },
     "metadata": {},
     "output_type": "display_data"
    }
   ],
   "source": [
    "plt.figure(figsize=(15, 6)) \n",
    "sns.heatmap(correlation_matrix, \n",
    "            annot=True,\n",
    "            cmap=\"RdGy\",           \n",
    "            linewidths=0.5,           \n",
    "            linecolor='black',        \n",
    "            cbar_kws={'label': 'Correlation Coefficient'})\n",
    "\n",
    "plt.title('Correlation Matrix of Features', fontsize=18)\n",
    "plt.xlabel('Features', fontsize=10)\n",
    "plt.ylabel('Features', fontsize=10)\n",
    "\n",
    "plt.show()"
   ]
  },
  {
   "cell_type": "markdown",
   "id": "7f1c080f-7a65-4950-b877-3b0a4459dc73",
   "metadata": {},
   "source": [
    "# Modelling"
   ]
  },
  {
   "cell_type": "markdown",
   "id": "4df438c8-4bc7-4cea-8271-0c449bc3bb0b",
   "metadata": {
    "slideshow": {
     "slide_type": ""
    },
    "tags": []
   },
   "source": [
    "##### Selecting my features and splitting the data into training and test sets"
   ]
  },
  {
   "cell_type": "code",
   "execution_count": 92,
   "id": "facd1ad7-f26d-4aa0-a6b5-9edfedd415c2",
   "metadata": {
    "slideshow": {
     "slide_type": ""
    },
    "tags": []
   },
   "outputs": [],
   "source": [
    "# Split features (X) and target (y) \n",
    "X = df.drop(columns=[\"ID\", \"VIN (1-10)\", \"Expected Price ($1k)\", \"Make\", \"Model\" , \"Price per Mile\",\"County\",\n",
    "                                 \"City\", \"State\", \"ZIP Code\", \"Electric Vehicle Type\", \"Legislative District\", \"DOL Vehicle ID\", \"Vehicle Location\", \"Electric Utility\", \"Clean Alternative Fuel Vehicle (CAFV) Eligibility\"])\n",
    "y = df['Expected Price ($1k)']\n",
    "\n",
    "# Splitting the data into training and test sets\n",
    "X_train, X_test, y_train, y_test = train_test_split(X, y, test_size=0.2, random_state=42)"
   ]
  },
  {
   "cell_type": "code",
   "execution_count": 94,
   "id": "986aca73-3a42-43b5-be30-c9aa59ef86aa",
   "metadata": {
    "slideshow": {
     "slide_type": ""
    },
    "tags": []
   },
   "outputs": [
    {
     "name": "stdout",
     "output_type": "stream",
     "text": [
      "Index(['Model Year', 'Electric Range', 'Base MSRP', 'Age of Vehicle',\n",
      "       '(CAFV)_Eligibility_encoded', 'EV_Type_encoded', 'Model_encoded',\n",
      "       'Make_encoded'],\n",
      "      dtype='object')\n"
     ]
    }
   ],
   "source": [
    "# Verifying the features\n",
    "print(X_train.columns)"
   ]
  },
  {
   "cell_type": "markdown",
   "id": "1e0d6c9e-b6f7-42ed-8cf6-14006d8e3119",
   "metadata": {
    "slideshow": {
     "slide_type": ""
    },
    "tags": []
   },
   "source": [
    "##### Scaling my data to ensure that each feature contributes equally to the distance calculations or the optimization process."
   ]
  },
  {
   "cell_type": "code",
   "execution_count": 97,
   "id": "edc56796-15d9-46a0-af95-fe4ce359ee67",
   "metadata": {
    "slideshow": {
     "slide_type": ""
    },
    "tags": []
   },
   "outputs": [
    {
     "name": "stdout",
     "output_type": "stream",
     "text": [
      "Model Year                    0\n",
      "Electric Range                0\n",
      "Base MSRP                     0\n",
      "Age of Vehicle                0\n",
      "(CAFV)_Eligibility_encoded    0\n",
      "EV_Type_encoded               0\n",
      "Model_encoded                 0\n",
      "Make_encoded                  0\n",
      "dtype: int64\n",
      "Model Year                    0\n",
      "Electric Range                0\n",
      "Base MSRP                     0\n",
      "Age of Vehicle                0\n",
      "(CAFV)_Eligibility_encoded    0\n",
      "EV_Type_encoded               0\n",
      "Model_encoded                 0\n",
      "Make_encoded                  0\n",
      "dtype: int64\n"
     ]
    }
   ],
   "source": [
    "# Check for NaN values\n",
    "print(np.isnan(X_train).sum())\n",
    "\n",
    "# Check for infinite values\n",
    "print(np.isinf(X_train).sum())\n"
   ]
  },
  {
   "cell_type": "code",
   "execution_count": 99,
   "id": "37fa6692-39ee-47c8-9df8-c5124f838e6c",
   "metadata": {
    "slideshow": {
     "slide_type": ""
    },
    "tags": []
   },
   "outputs": [],
   "source": [
    "# Create a StandardScaler instance\n",
    "scaler = StandardScaler()\n",
    "\n",
    "# Fit and transform the training data\n",
    "X_train_scaled = scaler.fit_transform(X_train)\n",
    "\n",
    "# Transform the test data\n",
    "X_test_scaled = scaler.transform(X_test)"
   ]
  },
  {
   "cell_type": "markdown",
   "id": "cd37246a-5dbe-4c95-bc48-2688b30a1f17",
   "metadata": {},
   "source": [
    "## Support Vector Machine(SVR)"
   ]
  },
  {
   "cell_type": "code",
   "execution_count": 102,
   "id": "ba3e43ad-6210-4433-8f37-c424dd5a3938",
   "metadata": {},
   "outputs": [],
   "source": [
    "svr_model = SVR(C=90, gamma='scale', kernel='rbf')"
   ]
  },
  {
   "cell_type": "code",
   "execution_count": 104,
   "id": "ae68fe6c-789b-448c-88f9-964987655aac",
   "metadata": {},
   "outputs": [
    {
     "data": {
      "text/html": [
       "<style>#sk-container-id-1 {\n",
       "  /* Definition of color scheme common for light and dark mode */\n",
       "  --sklearn-color-text: black;\n",
       "  --sklearn-color-line: gray;\n",
       "  /* Definition of color scheme for unfitted estimators */\n",
       "  --sklearn-color-unfitted-level-0: #fff5e6;\n",
       "  --sklearn-color-unfitted-level-1: #f6e4d2;\n",
       "  --sklearn-color-unfitted-level-2: #ffe0b3;\n",
       "  --sklearn-color-unfitted-level-3: chocolate;\n",
       "  /* Definition of color scheme for fitted estimators */\n",
       "  --sklearn-color-fitted-level-0: #f0f8ff;\n",
       "  --sklearn-color-fitted-level-1: #d4ebff;\n",
       "  --sklearn-color-fitted-level-2: #b3dbfd;\n",
       "  --sklearn-color-fitted-level-3: cornflowerblue;\n",
       "\n",
       "  /* Specific color for light theme */\n",
       "  --sklearn-color-text-on-default-background: var(--sg-text-color, var(--theme-code-foreground, var(--jp-content-font-color1, black)));\n",
       "  --sklearn-color-background: var(--sg-background-color, var(--theme-background, var(--jp-layout-color0, white)));\n",
       "  --sklearn-color-border-box: var(--sg-text-color, var(--theme-code-foreground, var(--jp-content-font-color1, black)));\n",
       "  --sklearn-color-icon: #696969;\n",
       "\n",
       "  @media (prefers-color-scheme: dark) {\n",
       "    /* Redefinition of color scheme for dark theme */\n",
       "    --sklearn-color-text-on-default-background: var(--sg-text-color, var(--theme-code-foreground, var(--jp-content-font-color1, white)));\n",
       "    --sklearn-color-background: var(--sg-background-color, var(--theme-background, var(--jp-layout-color0, #111)));\n",
       "    --sklearn-color-border-box: var(--sg-text-color, var(--theme-code-foreground, var(--jp-content-font-color1, white)));\n",
       "    --sklearn-color-icon: #878787;\n",
       "  }\n",
       "}\n",
       "\n",
       "#sk-container-id-1 {\n",
       "  color: var(--sklearn-color-text);\n",
       "}\n",
       "\n",
       "#sk-container-id-1 pre {\n",
       "  padding: 0;\n",
       "}\n",
       "\n",
       "#sk-container-id-1 input.sk-hidden--visually {\n",
       "  border: 0;\n",
       "  clip: rect(1px 1px 1px 1px);\n",
       "  clip: rect(1px, 1px, 1px, 1px);\n",
       "  height: 1px;\n",
       "  margin: -1px;\n",
       "  overflow: hidden;\n",
       "  padding: 0;\n",
       "  position: absolute;\n",
       "  width: 1px;\n",
       "}\n",
       "\n",
       "#sk-container-id-1 div.sk-dashed-wrapped {\n",
       "  border: 1px dashed var(--sklearn-color-line);\n",
       "  margin: 0 0.4em 0.5em 0.4em;\n",
       "  box-sizing: border-box;\n",
       "  padding-bottom: 0.4em;\n",
       "  background-color: var(--sklearn-color-background);\n",
       "}\n",
       "\n",
       "#sk-container-id-1 div.sk-container {\n",
       "  /* jupyter's `normalize.less` sets `[hidden] { display: none; }`\n",
       "     but bootstrap.min.css set `[hidden] { display: none !important; }`\n",
       "     so we also need the `!important` here to be able to override the\n",
       "     default hidden behavior on the sphinx rendered scikit-learn.org.\n",
       "     See: https://github.com/scikit-learn/scikit-learn/issues/21755 */\n",
       "  display: inline-block !important;\n",
       "  position: relative;\n",
       "}\n",
       "\n",
       "#sk-container-id-1 div.sk-text-repr-fallback {\n",
       "  display: none;\n",
       "}\n",
       "\n",
       "div.sk-parallel-item,\n",
       "div.sk-serial,\n",
       "div.sk-item {\n",
       "  /* draw centered vertical line to link estimators */\n",
       "  background-image: linear-gradient(var(--sklearn-color-text-on-default-background), var(--sklearn-color-text-on-default-background));\n",
       "  background-size: 2px 100%;\n",
       "  background-repeat: no-repeat;\n",
       "  background-position: center center;\n",
       "}\n",
       "\n",
       "/* Parallel-specific style estimator block */\n",
       "\n",
       "#sk-container-id-1 div.sk-parallel-item::after {\n",
       "  content: \"\";\n",
       "  width: 100%;\n",
       "  border-bottom: 2px solid var(--sklearn-color-text-on-default-background);\n",
       "  flex-grow: 1;\n",
       "}\n",
       "\n",
       "#sk-container-id-1 div.sk-parallel {\n",
       "  display: flex;\n",
       "  align-items: stretch;\n",
       "  justify-content: center;\n",
       "  background-color: var(--sklearn-color-background);\n",
       "  position: relative;\n",
       "}\n",
       "\n",
       "#sk-container-id-1 div.sk-parallel-item {\n",
       "  display: flex;\n",
       "  flex-direction: column;\n",
       "}\n",
       "\n",
       "#sk-container-id-1 div.sk-parallel-item:first-child::after {\n",
       "  align-self: flex-end;\n",
       "  width: 50%;\n",
       "}\n",
       "\n",
       "#sk-container-id-1 div.sk-parallel-item:last-child::after {\n",
       "  align-self: flex-start;\n",
       "  width: 50%;\n",
       "}\n",
       "\n",
       "#sk-container-id-1 div.sk-parallel-item:only-child::after {\n",
       "  width: 0;\n",
       "}\n",
       "\n",
       "/* Serial-specific style estimator block */\n",
       "\n",
       "#sk-container-id-1 div.sk-serial {\n",
       "  display: flex;\n",
       "  flex-direction: column;\n",
       "  align-items: center;\n",
       "  background-color: var(--sklearn-color-background);\n",
       "  padding-right: 1em;\n",
       "  padding-left: 1em;\n",
       "}\n",
       "\n",
       "\n",
       "/* Toggleable style: style used for estimator/Pipeline/ColumnTransformer box that is\n",
       "clickable and can be expanded/collapsed.\n",
       "- Pipeline and ColumnTransformer use this feature and define the default style\n",
       "- Estimators will overwrite some part of the style using the `sk-estimator` class\n",
       "*/\n",
       "\n",
       "/* Pipeline and ColumnTransformer style (default) */\n",
       "\n",
       "#sk-container-id-1 div.sk-toggleable {\n",
       "  /* Default theme specific background. It is overwritten whether we have a\n",
       "  specific estimator or a Pipeline/ColumnTransformer */\n",
       "  background-color: var(--sklearn-color-background);\n",
       "}\n",
       "\n",
       "/* Toggleable label */\n",
       "#sk-container-id-1 label.sk-toggleable__label {\n",
       "  cursor: pointer;\n",
       "  display: block;\n",
       "  width: 100%;\n",
       "  margin-bottom: 0;\n",
       "  padding: 0.5em;\n",
       "  box-sizing: border-box;\n",
       "  text-align: center;\n",
       "}\n",
       "\n",
       "#sk-container-id-1 label.sk-toggleable__label-arrow:before {\n",
       "  /* Arrow on the left of the label */\n",
       "  content: \"▸\";\n",
       "  float: left;\n",
       "  margin-right: 0.25em;\n",
       "  color: var(--sklearn-color-icon);\n",
       "}\n",
       "\n",
       "#sk-container-id-1 label.sk-toggleable__label-arrow:hover:before {\n",
       "  color: var(--sklearn-color-text);\n",
       "}\n",
       "\n",
       "/* Toggleable content - dropdown */\n",
       "\n",
       "#sk-container-id-1 div.sk-toggleable__content {\n",
       "  max-height: 0;\n",
       "  max-width: 0;\n",
       "  overflow: hidden;\n",
       "  text-align: left;\n",
       "  /* unfitted */\n",
       "  background-color: var(--sklearn-color-unfitted-level-0);\n",
       "}\n",
       "\n",
       "#sk-container-id-1 div.sk-toggleable__content.fitted {\n",
       "  /* fitted */\n",
       "  background-color: var(--sklearn-color-fitted-level-0);\n",
       "}\n",
       "\n",
       "#sk-container-id-1 div.sk-toggleable__content pre {\n",
       "  margin: 0.2em;\n",
       "  border-radius: 0.25em;\n",
       "  color: var(--sklearn-color-text);\n",
       "  /* unfitted */\n",
       "  background-color: var(--sklearn-color-unfitted-level-0);\n",
       "}\n",
       "\n",
       "#sk-container-id-1 div.sk-toggleable__content.fitted pre {\n",
       "  /* unfitted */\n",
       "  background-color: var(--sklearn-color-fitted-level-0);\n",
       "}\n",
       "\n",
       "#sk-container-id-1 input.sk-toggleable__control:checked~div.sk-toggleable__content {\n",
       "  /* Expand drop-down */\n",
       "  max-height: 200px;\n",
       "  max-width: 100%;\n",
       "  overflow: auto;\n",
       "}\n",
       "\n",
       "#sk-container-id-1 input.sk-toggleable__control:checked~label.sk-toggleable__label-arrow:before {\n",
       "  content: \"▾\";\n",
       "}\n",
       "\n",
       "/* Pipeline/ColumnTransformer-specific style */\n",
       "\n",
       "#sk-container-id-1 div.sk-label input.sk-toggleable__control:checked~label.sk-toggleable__label {\n",
       "  color: var(--sklearn-color-text);\n",
       "  background-color: var(--sklearn-color-unfitted-level-2);\n",
       "}\n",
       "\n",
       "#sk-container-id-1 div.sk-label.fitted input.sk-toggleable__control:checked~label.sk-toggleable__label {\n",
       "  background-color: var(--sklearn-color-fitted-level-2);\n",
       "}\n",
       "\n",
       "/* Estimator-specific style */\n",
       "\n",
       "/* Colorize estimator box */\n",
       "#sk-container-id-1 div.sk-estimator input.sk-toggleable__control:checked~label.sk-toggleable__label {\n",
       "  /* unfitted */\n",
       "  background-color: var(--sklearn-color-unfitted-level-2);\n",
       "}\n",
       "\n",
       "#sk-container-id-1 div.sk-estimator.fitted input.sk-toggleable__control:checked~label.sk-toggleable__label {\n",
       "  /* fitted */\n",
       "  background-color: var(--sklearn-color-fitted-level-2);\n",
       "}\n",
       "\n",
       "#sk-container-id-1 div.sk-label label.sk-toggleable__label,\n",
       "#sk-container-id-1 div.sk-label label {\n",
       "  /* The background is the default theme color */\n",
       "  color: var(--sklearn-color-text-on-default-background);\n",
       "}\n",
       "\n",
       "/* On hover, darken the color of the background */\n",
       "#sk-container-id-1 div.sk-label:hover label.sk-toggleable__label {\n",
       "  color: var(--sklearn-color-text);\n",
       "  background-color: var(--sklearn-color-unfitted-level-2);\n",
       "}\n",
       "\n",
       "/* Label box, darken color on hover, fitted */\n",
       "#sk-container-id-1 div.sk-label.fitted:hover label.sk-toggleable__label.fitted {\n",
       "  color: var(--sklearn-color-text);\n",
       "  background-color: var(--sklearn-color-fitted-level-2);\n",
       "}\n",
       "\n",
       "/* Estimator label */\n",
       "\n",
       "#sk-container-id-1 div.sk-label label {\n",
       "  font-family: monospace;\n",
       "  font-weight: bold;\n",
       "  display: inline-block;\n",
       "  line-height: 1.2em;\n",
       "}\n",
       "\n",
       "#sk-container-id-1 div.sk-label-container {\n",
       "  text-align: center;\n",
       "}\n",
       "\n",
       "/* Estimator-specific */\n",
       "#sk-container-id-1 div.sk-estimator {\n",
       "  font-family: monospace;\n",
       "  border: 1px dotted var(--sklearn-color-border-box);\n",
       "  border-radius: 0.25em;\n",
       "  box-sizing: border-box;\n",
       "  margin-bottom: 0.5em;\n",
       "  /* unfitted */\n",
       "  background-color: var(--sklearn-color-unfitted-level-0);\n",
       "}\n",
       "\n",
       "#sk-container-id-1 div.sk-estimator.fitted {\n",
       "  /* fitted */\n",
       "  background-color: var(--sklearn-color-fitted-level-0);\n",
       "}\n",
       "\n",
       "/* on hover */\n",
       "#sk-container-id-1 div.sk-estimator:hover {\n",
       "  /* unfitted */\n",
       "  background-color: var(--sklearn-color-unfitted-level-2);\n",
       "}\n",
       "\n",
       "#sk-container-id-1 div.sk-estimator.fitted:hover {\n",
       "  /* fitted */\n",
       "  background-color: var(--sklearn-color-fitted-level-2);\n",
       "}\n",
       "\n",
       "/* Specification for estimator info (e.g. \"i\" and \"?\") */\n",
       "\n",
       "/* Common style for \"i\" and \"?\" */\n",
       "\n",
       ".sk-estimator-doc-link,\n",
       "a:link.sk-estimator-doc-link,\n",
       "a:visited.sk-estimator-doc-link {\n",
       "  float: right;\n",
       "  font-size: smaller;\n",
       "  line-height: 1em;\n",
       "  font-family: monospace;\n",
       "  background-color: var(--sklearn-color-background);\n",
       "  border-radius: 1em;\n",
       "  height: 1em;\n",
       "  width: 1em;\n",
       "  text-decoration: none !important;\n",
       "  margin-left: 1ex;\n",
       "  /* unfitted */\n",
       "  border: var(--sklearn-color-unfitted-level-1) 1pt solid;\n",
       "  color: var(--sklearn-color-unfitted-level-1);\n",
       "}\n",
       "\n",
       ".sk-estimator-doc-link.fitted,\n",
       "a:link.sk-estimator-doc-link.fitted,\n",
       "a:visited.sk-estimator-doc-link.fitted {\n",
       "  /* fitted */\n",
       "  border: var(--sklearn-color-fitted-level-1) 1pt solid;\n",
       "  color: var(--sklearn-color-fitted-level-1);\n",
       "}\n",
       "\n",
       "/* On hover */\n",
       "div.sk-estimator:hover .sk-estimator-doc-link:hover,\n",
       ".sk-estimator-doc-link:hover,\n",
       "div.sk-label-container:hover .sk-estimator-doc-link:hover,\n",
       ".sk-estimator-doc-link:hover {\n",
       "  /* unfitted */\n",
       "  background-color: var(--sklearn-color-unfitted-level-3);\n",
       "  color: var(--sklearn-color-background);\n",
       "  text-decoration: none;\n",
       "}\n",
       "\n",
       "div.sk-estimator.fitted:hover .sk-estimator-doc-link.fitted:hover,\n",
       ".sk-estimator-doc-link.fitted:hover,\n",
       "div.sk-label-container:hover .sk-estimator-doc-link.fitted:hover,\n",
       ".sk-estimator-doc-link.fitted:hover {\n",
       "  /* fitted */\n",
       "  background-color: var(--sklearn-color-fitted-level-3);\n",
       "  color: var(--sklearn-color-background);\n",
       "  text-decoration: none;\n",
       "}\n",
       "\n",
       "/* Span, style for the box shown on hovering the info icon */\n",
       ".sk-estimator-doc-link span {\n",
       "  display: none;\n",
       "  z-index: 9999;\n",
       "  position: relative;\n",
       "  font-weight: normal;\n",
       "  right: .2ex;\n",
       "  padding: .5ex;\n",
       "  margin: .5ex;\n",
       "  width: min-content;\n",
       "  min-width: 20ex;\n",
       "  max-width: 50ex;\n",
       "  color: var(--sklearn-color-text);\n",
       "  box-shadow: 2pt 2pt 4pt #999;\n",
       "  /* unfitted */\n",
       "  background: var(--sklearn-color-unfitted-level-0);\n",
       "  border: .5pt solid var(--sklearn-color-unfitted-level-3);\n",
       "}\n",
       "\n",
       ".sk-estimator-doc-link.fitted span {\n",
       "  /* fitted */\n",
       "  background: var(--sklearn-color-fitted-level-0);\n",
       "  border: var(--sklearn-color-fitted-level-3);\n",
       "}\n",
       "\n",
       ".sk-estimator-doc-link:hover span {\n",
       "  display: block;\n",
       "}\n",
       "\n",
       "/* \"?\"-specific style due to the `<a>` HTML tag */\n",
       "\n",
       "#sk-container-id-1 a.estimator_doc_link {\n",
       "  float: right;\n",
       "  font-size: 1rem;\n",
       "  line-height: 1em;\n",
       "  font-family: monospace;\n",
       "  background-color: var(--sklearn-color-background);\n",
       "  border-radius: 1rem;\n",
       "  height: 1rem;\n",
       "  width: 1rem;\n",
       "  text-decoration: none;\n",
       "  /* unfitted */\n",
       "  color: var(--sklearn-color-unfitted-level-1);\n",
       "  border: var(--sklearn-color-unfitted-level-1) 1pt solid;\n",
       "}\n",
       "\n",
       "#sk-container-id-1 a.estimator_doc_link.fitted {\n",
       "  /* fitted */\n",
       "  border: var(--sklearn-color-fitted-level-1) 1pt solid;\n",
       "  color: var(--sklearn-color-fitted-level-1);\n",
       "}\n",
       "\n",
       "/* On hover */\n",
       "#sk-container-id-1 a.estimator_doc_link:hover {\n",
       "  /* unfitted */\n",
       "  background-color: var(--sklearn-color-unfitted-level-3);\n",
       "  color: var(--sklearn-color-background);\n",
       "  text-decoration: none;\n",
       "}\n",
       "\n",
       "#sk-container-id-1 a.estimator_doc_link.fitted:hover {\n",
       "  /* fitted */\n",
       "  background-color: var(--sklearn-color-fitted-level-3);\n",
       "}\n",
       "</style><div id=\"sk-container-id-1\" class=\"sk-top-container\"><div class=\"sk-text-repr-fallback\"><pre>SVR(C=90)</pre><b>In a Jupyter environment, please rerun this cell to show the HTML representation or trust the notebook. <br />On GitHub, the HTML representation is unable to render, please try loading this page with nbviewer.org.</b></div><div class=\"sk-container\" hidden><div class=\"sk-item\"><div class=\"sk-estimator fitted sk-toggleable\"><input class=\"sk-toggleable__control sk-hidden--visually\" id=\"sk-estimator-id-1\" type=\"checkbox\" checked><label for=\"sk-estimator-id-1\" class=\"sk-toggleable__label fitted sk-toggleable__label-arrow fitted\">&nbsp;&nbsp;SVR<a class=\"sk-estimator-doc-link fitted\" rel=\"noreferrer\" target=\"_blank\" href=\"https://scikit-learn.org/1.4/modules/generated/sklearn.svm.SVR.html\">?<span>Documentation for SVR</span></a><span class=\"sk-estimator-doc-link fitted\">i<span>Fitted</span></span></label><div class=\"sk-toggleable__content fitted\"><pre>SVR(C=90)</pre></div> </div></div></div></div>"
      ],
      "text/plain": [
       "SVR(C=90)"
      ]
     },
     "execution_count": 104,
     "metadata": {},
     "output_type": "execute_result"
    }
   ],
   "source": [
    "svr_model.fit(X_train_scaled, y_train)"
   ]
  },
  {
   "cell_type": "code",
   "execution_count": 105,
   "id": "ca0c329a-6d3e-4b81-88cf-7926ad64e520",
   "metadata": {},
   "outputs": [],
   "source": [
    "svr_ypred = svr_model.predict(X_test_scaled)"
   ]
  },
  {
   "cell_type": "code",
   "execution_count": 106,
   "id": "5f5f5953-44bc-45bc-8159-acf70787464f",
   "metadata": {
    "slideshow": {
     "slide_type": ""
    },
    "tags": []
   },
   "outputs": [
    {
     "name": "stdout",
     "output_type": "stream",
     "text": [
      "SVR RMSE: 7.708535054996906\n",
      "SVR R2 Score: 0.8978549957089115\n"
     ]
    }
   ],
   "source": [
    "# Model evaluation\n",
    "print(\"SVR RMSE:\", mean_squared_error(y_test, svr_ypred, squared=False))\n",
    "print(\"SVR R2 Score:\", r2_score(y_test, svr_ypred))"
   ]
  },
  {
   "cell_type": "markdown",
   "id": "fa01f21d-95e1-4257-b565-13701778d725",
   "metadata": {
    "slideshow": {
     "slide_type": ""
    },
    "tags": []
   },
   "source": [
    "#### saving the trained model"
   ]
  },
  {
   "cell_type": "code",
   "execution_count": 111,
   "id": "361a32cc-2b0d-4575-a77a-5a420eb772b0",
   "metadata": {},
   "outputs": [],
   "source": [
    "import pickle"
   ]
  },
  {
   "cell_type": "code",
   "execution_count": 113,
   "id": "afe1ffed-97a8-45dc-9ce2-111fe2c58f0f",
   "metadata": {},
   "outputs": [
    {
     "name": "stdout",
     "output_type": "stream",
     "text": [
      "Model and encodings saved to trained_model_and_encodings.sav\n"
     ]
    }
   ],
   "source": [
    "# Perform target encoding for 'Model' and 'Make' using the mean of 'Expected Price ($1k)'\n",
    "model_encoding = df.groupby('Model')['Expected Price ($1k)'].mean().to_dict()\n",
    "make_encoding = df.groupby('Make')['Expected Price ($1k)'].mean().to_dict()\n",
    "\n",
    "# Save the model and encoding mappings together in a dictionary\n",
    "model_data = {\n",
    "    'model': svr_model,  # Your trained SVR model\n",
    "    'model_encoding': model_encoding,  # Target encoding for 'Model'\n",
    "    'make_encoding': make_encoding     # Target encoding for 'Make'\n",
    "}\n",
    "\n",
    "# Save the dictionary with the model and encodings to a .sav file\n",
    "filename = \"trained_model_and_encodings.sav\"\n",
    "pickle.dump(model_data, open(filename, 'wb'))\n",
    "\n",
    "print(f\"Model and encodings saved to {filename}\")"
   ]
  },
  {
   "cell_type": "markdown",
   "id": "bf26a8b6-ea72-4afc-b2b0-14031387518a",
   "metadata": {},
   "source": [
    "#### loading the saved model"
   ]
  },
  {
   "cell_type": "code",
   "execution_count": 116,
   "id": "fe91bc52-06a5-486d-99b1-7cb1b89d243b",
   "metadata": {},
   "outputs": [
    {
     "name": "stdout",
     "output_type": "stream",
     "text": [
      "Model and encodings loaded successfully.\n"
     ]
    }
   ],
   "source": [
    "# Load the model and encodings from the .sav file\n",
    "filename = \"trained_model_and_encodings.sav\"\n",
    "loaded_data = pickle.load(open(filename, 'rb'))\n",
    "\n",
    "# Extract the model and the encodings\n",
    "loaded_model = loaded_data['model']  # SVR model\n",
    "loaded_model_encoding = loaded_data['model_encoding']  # Model encodings\n",
    "loaded_make_encoding = loaded_data['make_encoding']  # Make encodings\n",
    "\n",
    "print(\"Model and encodings loaded successfully.\")"
   ]
  },
  {
   "cell_type": "markdown",
   "id": "45564c88-f07f-4d82-94d0-9e0f2e2b33fc",
   "metadata": {},
   "source": [
    "#### Transforming New Data for Prediction"
   ]
  },
  {
   "cell_type": "code",
   "execution_count": 119,
   "id": "988437b9-5c76-461c-abdd-a5792899c345",
   "metadata": {},
   "outputs": [
    {
     "name": "stdout",
     "output_type": "stream",
     "text": [
      "Predicted price: $69.62284865490788k\n"
     ]
    }
   ],
   "source": [
    "# Let's assume we have new data for prediction\n",
    "new_model = \"MODEL 3\"\n",
    "new_make = \"TESLA\"\n",
    "new_model_year = 2022\n",
    "new_electric_range = 350  \n",
    "new_base_msrp = 35000     \n",
    "new_vehicle_age = 2        \n",
    "new_cafv_eligibility = 1   \n",
    "new_ev_type = 1           \n",
    "\n",
    "# Apply the encoding using the loaded encoding mappings\n",
    "encoded_model = loaded_model_encoding.get(new_model, 0)  \n",
    "encoded_make = loaded_make_encoding.get(new_make, 0)     \n",
    "\n",
    "# Create the input data list with all required features\n",
    "new_data = [\n",
    "    new_model_year,         # 'Model Year'\n",
    "    new_electric_range,     # 'Electric Range'\n",
    "    new_base_msrp,          # 'Base MSRP'\n",
    "    new_vehicle_age,        # 'Age of Vehicle'\n",
    "    new_cafv_eligibility,   # '(CAFV)_Eligibility_encoded'\n",
    "    new_ev_type,            # 'EV_Type_encoded'\n",
    "    encoded_model,          # 'Model_encoded'\n",
    "    encoded_make            # 'Make_encoded'\n",
    "]\n",
    "\n",
    "# Make a prediction with the loaded model\n",
    "predicted_price = loaded_model.predict([new_data])\n",
    "\n",
    "print(f\"Predicted price: ${predicted_price[0]}k\")"
   ]
  },
  {
   "cell_type": "code",
   "execution_count": null,
   "id": "c8d99688-d30b-4fc1-96ea-c9f722ab3fe8",
   "metadata": {},
   "outputs": [],
   "source": []
  }
 ],
 "metadata": {
  "kernelspec": {
   "display_name": "Python 3 (ipykernel)",
   "language": "python",
   "name": "python3"
  },
  "language_info": {
   "codemirror_mode": {
    "name": "ipython",
    "version": 3
   },
   "file_extension": ".py",
   "mimetype": "text/x-python",
   "name": "python",
   "nbconvert_exporter": "python",
   "pygments_lexer": "ipython3",
   "version": "3.12.4"
  }
 },
 "nbformat": 4,
 "nbformat_minor": 5
}
