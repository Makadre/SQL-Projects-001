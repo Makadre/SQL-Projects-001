{
 "cells": [
  {
   "cell_type": "code",
   "execution_count": 1,
   "id": "3c44e9c8-de1a-4b2d-b55c-49e5fa59c2f5",
   "metadata": {},
   "outputs": [],
   "source": [
    "import numpy as np"
   ]
  },
  {
   "cell_type": "code",
   "execution_count": 2,
   "id": "480aa401-3e3f-42aa-97c3-1d014c4dc17b",
   "metadata": {},
   "outputs": [],
   "source": [
    "# Create the grades array\n",
    "grades = np.array([85, 90, 88, 92, 95, 80, 75, 98, 89, 83])\n"
   ]
  },
  {
   "cell_type": "code",
   "execution_count": 3,
   "id": "c569af3d-15d4-4651-9d99-cc2c13714530",
   "metadata": {},
   "outputs": [],
   "source": [
    "# Calculate the mean, median, and standard deviation of the grades\n",
    "mean_grade = np.mean(grades)\n",
    "median_grade = np.median(grades)\n",
    "std_dev_grade = np.std(grades)\n"
   ]
  },
  {
   "cell_type": "code",
   "execution_count": 4,
   "id": "1f9fee62-8abd-4319-ae4c-0909a4d979e9",
   "metadata": {},
   "outputs": [],
   "source": [
    "# Find the maximum and minimum of the grades\n",
    "max_grade = np.max(grades)\n",
    "min_grade = np.min(grades)\n",
    "\n"
   ]
  },
  {
   "cell_type": "code",
   "execution_count": 5,
   "id": "699eef9c-209e-47bd-82fa-0e427ba43338",
   "metadata": {},
   "outputs": [],
   "source": [
    "# Sort the grades in ascending order\n",
    "sorted_grades = np.sort(grades)\n"
   ]
  },
  {
   "cell_type": "code",
   "execution_count": 7,
   "id": "c33efb42-d2a2-4ae9-9639-ce191184f21f",
   "metadata": {},
   "outputs": [],
   "source": [
    "# Calculate the percentage of students who scored above 90\n",
    "percentage_above_90 = np.mean(grades > 90) * 100\n",
    "\n"
   ]
  },
  {
   "cell_type": "code",
   "execution_count": 8,
   "id": "608bb991-2b00-4530-b1d1-81ec3397101d",
   "metadata": {},
   "outputs": [],
   "source": [
    "# Calculate the percentage of students who scored below 75\n",
    "percentage_below_75 = np.mean(grades < 75) * 100\n",
    "\n"
   ]
  },
  {
   "cell_type": "code",
   "execution_count": 9,
   "id": "f8570d59-300f-4147-b209-4e2fd985daeb",
   "metadata": {},
   "outputs": [],
   "source": [
    "# Extract all the grades above 90\n",
    "high_performers = grades[grades > 90]\n"
   ]
  },
  {
   "cell_type": "code",
   "execution_count": 10,
   "id": "2232ed75-5d63-4b3b-b780-fead060c9069",
   "metadata": {},
   "outputs": [],
   "source": [
    "# Create a new array that contains all the grades above 75\n",
    "passing_grades = grades[grades > 75]\n",
    "\n"
   ]
  },
  {
   "cell_type": "code",
   "execution_count": 11,
   "id": "3295579a-2999-42d7-8fc0-6efea62fe367",
   "metadata": {},
   "outputs": [
    {
     "name": "stdout",
     "output_type": "stream",
     "text": [
      "Grades: [85 90 88 92 95 80 75 98 89 83]\n",
      "Mean grade: 87.5\n",
      "Median grade: 88.5\n",
      "Standard deviation: 6.591661399070799\n",
      "Maximum grade: 98\n",
      "Minimum grade: 75\n",
      "Sorted grades: [75 80 83 85 88 89 90 92 95 98]\n"
     ]
    },
    {
     "ename": "NameError",
     "evalue": "name 'index_highest_grade' is not defined",
     "output_type": "error",
     "traceback": [
      "\u001b[1;31m---------------------------------------------------------------------------\u001b[0m",
      "\u001b[1;31mNameError\u001b[0m                                 Traceback (most recent call last)",
      "Cell \u001b[1;32mIn[11], line 9\u001b[0m\n\u001b[0;32m      7\u001b[0m \u001b[38;5;28mprint\u001b[39m(\u001b[38;5;124m\"\u001b[39m\u001b[38;5;124mMinimum grade:\u001b[39m\u001b[38;5;124m\"\u001b[39m, min_grade)\n\u001b[0;32m      8\u001b[0m \u001b[38;5;28mprint\u001b[39m(\u001b[38;5;124m\"\u001b[39m\u001b[38;5;124mSorted grades:\u001b[39m\u001b[38;5;124m\"\u001b[39m, sorted_grades)\n\u001b[1;32m----> 9\u001b[0m \u001b[38;5;28mprint\u001b[39m(\u001b[38;5;124m\"\u001b[39m\u001b[38;5;124mIndex of highest grade:\u001b[39m\u001b[38;5;124m\"\u001b[39m, index_highest_grade)\n\u001b[0;32m     10\u001b[0m \u001b[38;5;28mprint\u001b[39m(\u001b[38;5;124m\"\u001b[39m\u001b[38;5;124mNumber of students who scored above 90:\u001b[39m\u001b[38;5;124m\"\u001b[39m, num_students_above_90)\n\u001b[0;32m     11\u001b[0m \u001b[38;5;28mprint\u001b[39m(\u001b[38;5;124m\"\u001b[39m\u001b[38;5;124mPercentage of students who scored above 90:\u001b[39m\u001b[38;5;124m\"\u001b[39m, percentage_above_90)\n",
      "\u001b[1;31mNameError\u001b[0m: name 'index_highest_grade' is not defined"
     ]
    }
   ],
   "source": [
    "# Print results\n",
    "print(\"Grades:\", grades)\n",
    "print(\"Mean grade:\", mean_grade)\n",
    "print(\"Median grade:\", median_grade)\n",
    "print(\"Standard deviation:\", std_dev_grade)\n",
    "print(\"Maximum grade:\", max_grade)\n",
    "print(\"Minimum grade:\", min_grade)\n",
    "print(\"Sorted grades:\", sorted_grades)\n",
    "print(\"Index of highest grade:\", index_highest_grade)\n",
    "print(\"Number of students who scored above 90:\", num_students_above_90)\n",
    "print(\"Percentage of students who scored above 90:\", percentage_above_90)\n",
    "print(\"Percentage of students who scored below 75:\", percentage_below_75)\n",
    "print(\"Grades above 90:\", high_performers)\n",
    "print(\"Passing grades (above 75):\", passing_grades)\n"
   ]
  },
  {
   "cell_type": "code",
   "execution_count": null,
   "id": "dbb48375-04d9-4f0c-b147-d4ff7334223c",
   "metadata": {},
   "outputs": [],
   "source": []
  }
 ],
 "metadata": {
  "kernelspec": {
   "display_name": "Python 3 (ipykernel)",
   "language": "python",
   "name": "python3"
  },
  "language_info": {
   "codemirror_mode": {
    "name": "ipython",
    "version": 3
   },
   "file_extension": ".py",
   "mimetype": "text/x-python",
   "name": "python",
   "nbconvert_exporter": "python",
   "pygments_lexer": "ipython3",
   "version": "3.12.4"
  }
 },
 "nbformat": 4,
 "nbformat_minor": 5
}
