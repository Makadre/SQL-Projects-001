{
 "cells": [
  {
   "cell_type": "code",
   "execution_count": 1,
   "id": "25fe5c7c-bafb-4cb9-8109-8b41eb9578e7",
   "metadata": {},
   "outputs": [],
   "source": [
    "import pandas as pd\n",
    "import numpy as np\n"
   ]
  },
  {
   "cell_type": "code",
   "execution_count": 18,
   "id": "f677078b-2747-49e1-a151-9b59654dd580",
   "metadata": {},
   "outputs": [
    {
     "name": "stderr",
     "output_type": "stream",
     "text": [
      "C:\\Users\\damil\\AppData\\Local\\Temp\\ipykernel_28444\\1128083038.py:2: DtypeWarning: Columns (4) have mixed types. Specify dtype option on import or set low_memory=False.\n",
      "  client_0_bills = pd.read_csv(\"Downloads/STEG_BILLING_HISTORY.csv\")\n"
     ]
    }
   ],
   "source": [
    "# Load the dataset\n",
    "client_0_bills = pd.read_csv(\"Downloads/STEG_BILLING_HISTORY.csv\")"
   ]
  },
  {
   "cell_type": "code",
   "execution_count": 20,
   "id": "534e1ce1-6cec-45c8-8246-40b1ed5d79cd",
   "metadata": {},
   "outputs": [
    {
     "name": "stdout",
     "output_type": "stream",
     "text": [
      "        client_id invoice_date  tarif_type  counter_number counter_statue  \\\n",
      "0  train_Client_0   2014-03-24          11       1335667.0              0   \n",
      "1  train_Client_0   2013-03-29          11       1335667.0              0   \n",
      "2  train_Client_0   2015-03-23          11       1335667.0              0   \n",
      "3  train_Client_0   2015-07-13          11       1335667.0              0   \n",
      "4  train_Client_0   2016-11-17          11       1335667.0              0   \n",
      "5  train_Client_0   2017-07-17          11       1335667.0              0   \n",
      "6  train_Client_0   2018-12-07          11       1335667.0              0   \n",
      "7  train_Client_0   2019-03-19          11       1335667.0              0   \n",
      "8  train_Client_0   2011-07-22          11       1335667.0              0   \n",
      "9  train_Client_0   2011-11-22          11       1335667.0              0   \n",
      "\n",
      "   counter_code  reading_remarque  counter_coefficient  consommation_level_1  \\\n",
      "0           203               8.0                    1                    82   \n",
      "1           203               6.0                    1                  1200   \n",
      "2           203               8.0                    1                   123   \n",
      "3           207               8.0                    1                   102   \n",
      "4           207               9.0                    1                   572   \n",
      "5           207               9.0                    1                   314   \n",
      "6           207               9.0                    1                   541   \n",
      "7           207               9.0                    1                   585   \n",
      "8           203               9.0                    1                  1200   \n",
      "9           203               6.0                    1                  1082   \n",
      "\n",
      "   consommation_level_2  consommation_level_3  consommation_level_4  \\\n",
      "0                     0                     0                     0   \n",
      "1                   184                     0                     0   \n",
      "2                     0                     0                     0   \n",
      "3                     0                     0                     0   \n",
      "4                     0                     0                     0   \n",
      "5                     0                     0                     0   \n",
      "6                     0                     0                     0   \n",
      "7                     0                     0                     0   \n",
      "8                   186                     0                     0   \n",
      "9                     0                     0                     0   \n",
      "\n",
      "   old_index  new_index  months_number counter_type  \n",
      "0      14302      14384              4         ELEC  \n",
      "1      12294      13678              4         ELEC  \n",
      "2      14624      14747              4         ELEC  \n",
      "3      14747      14849              4         ELEC  \n",
      "4      15066      15638             12         ELEC  \n",
      "5      15638      15952              8         ELEC  \n",
      "6      15952      16493             12         ELEC  \n",
      "7      16493      17078              8         ELEC  \n",
      "8       7770       9156              4         ELEC  \n",
      "9       9156      10238              4         ELEC  \n"
     ]
    }
   ],
   "source": [
    "# Display the first 10 rows\n",
    "print (client_0_bills.head(10))"
   ]
  },
  {
   "cell_type": "code",
   "execution_count": 21,
   "id": "1ae0991f-376b-417a-954d-048eff6dbb87",
   "metadata": {},
   "outputs": [
    {
     "name": "stdout",
     "output_type": "stream",
     "text": [
      "\n",
      "Data type of 'client_0_bills':\n",
      "<class 'pandas.core.frame.DataFrame'>\n"
     ]
    }
   ],
   "source": [
    "# Data type of 'client_0_bills'\n",
    "print(\"\\nData type of 'client_0_bills':\")\n",
    "print(type(client_0_bills))\n"
   ]
  },
  {
   "cell_type": "code",
   "execution_count": 22,
   "id": "be7dbd34-1269-47f1-acdf-68e740efc83c",
   "metadata": {},
   "outputs": [
    {
     "name": "stdout",
     "output_type": "stream",
     "text": [
      "\n",
      "General Information:\n",
      "<class 'pandas.core.frame.DataFrame'>\n",
      "RangeIndex: 4476749 entries, 0 to 4476748\n",
      "Data columns (total 16 columns):\n",
      " #   Column                Dtype  \n",
      "---  ------                -----  \n",
      " 0   client_id             object \n",
      " 1   invoice_date          object \n",
      " 2   tarif_type            int64  \n",
      " 3   counter_number        float64\n",
      " 4   counter_statue        object \n",
      " 5   counter_code          int64  \n",
      " 6   reading_remarque      float64\n",
      " 7   counter_coefficient   int64  \n",
      " 8   consommation_level_1  int64  \n",
      " 9   consommation_level_2  int64  \n",
      " 10  consommation_level_3  int64  \n",
      " 11  consommation_level_4  int64  \n",
      " 12  old_index             int64  \n",
      " 13  new_index             int64  \n",
      " 14  months_number         int64  \n",
      " 15  counter_type          object \n",
      "dtypes: float64(2), int64(10), object(4)\n",
      "memory usage: 546.5+ MB\n",
      "None\n"
     ]
    }
   ],
   "source": [
    "# General information of the dataset\n",
    "print(\"\\nGeneral Information:\")\n",
    "print(client_0_bills.info())\n"
   ]
  },
  {
   "cell_type": "code",
   "execution_count": 23,
   "id": "5b23b586-af18-4eb6-a945-478d5ab7fcae",
   "metadata": {},
   "outputs": [
    {
     "name": "stdout",
     "output_type": "stream",
     "text": [
      "\n",
      "Number of rows and columns:\n",
      "(4476749, 16)\n"
     ]
    }
   ],
   "source": [
    "# Questions\n",
    "print(\"\\nNumber of rows and columns:\")\n",
    "print(client_0_bills.shape)\n"
   ]
  },
  {
   "cell_type": "code",
   "execution_count": 24,
   "id": "b41d86be-82ef-4057-89bd-3bc3e3c28e62",
   "metadata": {},
   "outputs": [
    {
     "name": "stdout",
     "output_type": "stream",
     "text": [
      "\n",
      "Number of categorical features:\n",
      "4\n"
     ]
    }
   ],
   "source": [
    "print(\"\\nNumber of categorical features:\")\n",
    "categorical_features = client_0_bills.select_dtypes(include=['object']).columns\n",
    "print(len(categorical_features))\n"
   ]
  },
  {
   "cell_type": "code",
   "execution_count": 25,
   "id": "1005c4a4-b38f-44fc-a886-40d30a4cfe6e",
   "metadata": {},
   "outputs": [
    {
     "name": "stdout",
     "output_type": "stream",
     "text": [
      "\n",
      "Memory usage of the dataset:\n",
      "1392139331 bytes\n"
     ]
    }
   ],
   "source": [
    "print(\"\\nMemory usage of the dataset:\")\n",
    "print(client_0_bills.memory_usage(deep=True).sum(), \"bytes\")\n"
   ]
  },
  {
   "cell_type": "code",
   "execution_count": 26,
   "id": "ca5924f3-bd90-424e-a896-513371e5912c",
   "metadata": {},
   "outputs": [
    {
     "name": "stdout",
     "output_type": "stream",
     "text": [
      "\n",
      "Missing values in the dataset:\n",
      "client_id                  0\n",
      "invoice_date               0\n",
      "tarif_type                 0\n",
      "counter_number            48\n",
      "counter_statue             0\n",
      "counter_code               0\n",
      "reading_remarque        4531\n",
      "counter_coefficient        0\n",
      "consommation_level_1       0\n",
      "consommation_level_2       0\n",
      "consommation_level_3       0\n",
      "consommation_level_4       0\n",
      "old_index                  0\n",
      "new_index                  0\n",
      "months_number              0\n",
      "counter_type               0\n",
      "dtype: int64\n"
     ]
    }
   ],
   "source": [
    "# Inspect for missing values\n",
    "print(\"\\nMissing values in the dataset:\")\n",
    "print(client_0_bills.isnull().sum())\n",
    "\n"
   ]
  },
  {
   "cell_type": "code",
   "execution_count": 29,
   "id": "333bccbf-c3cc-4a2a-83b5-3c1a33ace0c8",
   "metadata": {},
   "outputs": [],
   "source": [
    "# Handling missing values\n",
    "# Example strategy: Fill missing values with the mean for numeric features and mode for categorical features\n",
    "numeric_features = client_0_bills.select_dtypes(include=[np.number]).columns\n",
    "categorical_features = client_0_bills.select_dtypes(include=['object']).columns\n",
    "\n"
   ]
  },
  {
   "cell_type": "code",
   "execution_count": 30,
   "id": "94940968-024f-4c59-a704-5ed18d1be1ee",
   "metadata": {},
   "outputs": [],
   "source": [
    "# Filling missing values\n",
    "client_0_bills[numeric_features] = client_0_bills[numeric_features].fillna(client_0_bills[numeric_features].mean())\n",
    "client_0_bills[categorical_features] = client_0_bills[categorical_features].fillna(client_0_bills[categorical_features].mode().iloc[0])\n",
    "\n"
   ]
  },
  {
   "cell_type": "code",
   "execution_count": 31,
   "id": "975a8d57-2c02-4d2e-b2af-e415b01ed0a6",
   "metadata": {},
   "outputs": [
    {
     "name": "stdout",
     "output_type": "stream",
     "text": [
      "\n",
      "Missing values after imputation:\n",
      "client_id               0\n",
      "invoice_date            0\n",
      "tarif_type              0\n",
      "counter_number          0\n",
      "counter_statue          0\n",
      "counter_code            0\n",
      "reading_remarque        0\n",
      "counter_coefficient     0\n",
      "consommation_level_1    0\n",
      "consommation_level_2    0\n",
      "consommation_level_3    0\n",
      "consommation_level_4    0\n",
      "old_index               0\n",
      "new_index               0\n",
      "months_number           0\n",
      "counter_type            0\n",
      "dtype: int64\n"
     ]
    }
   ],
   "source": [
    "print(\"\\nMissing values after imputation:\")\n",
    "print(client_0_bills.isnull().sum())\n"
   ]
  },
  {
   "cell_type": "code",
   "execution_count": 32,
   "id": "14cc1cbb-4194-4be7-a288-590d98ae296e",
   "metadata": {},
   "outputs": [
    {
     "name": "stdout",
     "output_type": "stream",
     "text": [
      "\n",
      "Descriptive statistics for numeric features:\n",
      "         tarif_type  counter_number  counter_code  reading_remarque  \\\n",
      "count  4.476749e+06    4.476749e+06  4.476749e+06      4.476749e+06   \n",
      "mean   2.012804e+01    1.230595e+11  1.724884e+02      7.321713e+00   \n",
      "std    1.347256e+01    1.657267e+12  1.338871e+02      1.571064e+00   \n",
      "min    8.000000e+00    0.000000e+00  0.000000e+00      5.000000e+00   \n",
      "25%    1.100000e+01    1.211080e+05  5.000000e+00      6.000000e+00   \n",
      "50%    1.100000e+01    4.945690e+05  2.030000e+02      8.000000e+00   \n",
      "75%    4.000000e+01    1.115217e+06  2.070000e+02      9.000000e+00   \n",
      "max    4.500000e+01    2.798115e+13  6.000000e+02      4.130000e+02   \n",
      "\n",
      "       counter_coefficient  consommation_level_1  consommation_level_2  \\\n",
      "count         4.476749e+06          4.476749e+06          4.476749e+06   \n",
      "mean          1.003040e+00          4.109795e+02          1.093225e+02   \n",
      "std           3.083466e-01          7.573080e+02          1.220123e+03   \n",
      "min           0.000000e+00          0.000000e+00          0.000000e+00   \n",
      "25%           1.000000e+00          7.900000e+01          0.000000e+00   \n",
      "50%           1.000000e+00          2.740000e+02          0.000000e+00   \n",
      "75%           1.000000e+00          6.000000e+02          0.000000e+00   \n",
      "max           5.000000e+01          9.999100e+05          9.990730e+05   \n",
      "\n",
      "       consommation_level_3  consommation_level_4     old_index     new_index  \\\n",
      "count          4.476749e+06          4.476749e+06  4.476749e+06  4.476749e+06   \n",
      "mean           2.030620e+01          5.292588e+01  1.776700e+04  1.834970e+04   \n",
      "std            1.574239e+02          8.754725e+02  4.036693e+04  4.095321e+04   \n",
      "min            0.000000e+00          0.000000e+00  0.000000e+00  0.000000e+00   \n",
      "25%            0.000000e+00          0.000000e+00  1.791000e+03  2.056000e+03   \n",
      "50%            0.000000e+00          0.000000e+00  7.690000e+03  8.192000e+03   \n",
      "75%            0.000000e+00          0.000000e+00  2.166000e+04  2.234300e+04   \n",
      "max            6.449200e+04          5.479460e+05  2.800280e+06  2.870972e+06   \n",
      "\n",
      "       months_number  \n",
      "count   4.476749e+06  \n",
      "mean    4.483095e+01  \n",
      "std     3.128335e+03  \n",
      "min     0.000000e+00  \n",
      "25%     4.000000e+00  \n",
      "50%     4.000000e+00  \n",
      "75%     4.000000e+00  \n",
      "max     6.366240e+05  \n"
     ]
    }
   ],
   "source": [
    "# Descriptive analysis on numeric features\n",
    "print(\"\\nDescriptive statistics for numeric features:\")\n",
    "print(client_0_bills.describe())\n",
    "\n"
   ]
  },
  {
   "cell_type": "code",
   "execution_count": 33,
   "id": "51697eec-e46a-4cf8-a699-7592ff33114f",
   "metadata": {},
   "outputs": [
    {
     "name": "stdout",
     "output_type": "stream",
     "text": [
      "\n",
      "Records for client with id ='train_Client_0' using .loc:\n",
      "         client_id invoice_date  tarif_type  counter_number counter_statue  \\\n",
      "0   train_Client_0   2014-03-24          11       1335667.0              0   \n",
      "1   train_Client_0   2013-03-29          11       1335667.0              0   \n",
      "2   train_Client_0   2015-03-23          11       1335667.0              0   \n",
      "3   train_Client_0   2015-07-13          11       1335667.0              0   \n",
      "4   train_Client_0   2016-11-17          11       1335667.0              0   \n",
      "5   train_Client_0   2017-07-17          11       1335667.0              0   \n",
      "6   train_Client_0   2018-12-07          11       1335667.0              0   \n",
      "7   train_Client_0   2019-03-19          11       1335667.0              0   \n",
      "8   train_Client_0   2011-07-22          11       1335667.0              0   \n",
      "9   train_Client_0   2011-11-22          11       1335667.0              0   \n",
      "10  train_Client_0   2008-11-25          11       1335667.0              0   \n",
      "11  train_Client_0   2012-07-23          11       1335667.0              0   \n",
      "12  train_Client_0   2012-11-29          11       1335667.0              0   \n",
      "13  train_Client_0   2013-07-22          11       1335667.0              0   \n",
      "14  train_Client_0   2014-07-18          11       1335667.0              0   \n",
      "15  train_Client_0   2014-11-24          11       1335667.0              0   \n",
      "16  train_Client_0   2015-11-18          11       1335667.0              0   \n",
      "17  train_Client_0   2012-03-27          11       1335667.0              0   \n",
      "18  train_Client_0   2011-03-30          11       1335667.0              0   \n",
      "19  train_Client_0   2013-02-12          11       1335667.0              0   \n",
      "20  train_Client_0   2010-07-22          11       1335667.0              0   \n",
      "21  train_Client_0   2010-11-24          11       1335667.0              0   \n",
      "22  train_Client_0   2005-10-17          11       1335667.0              0   \n",
      "23  train_Client_0   2006-02-24          11       1335667.0              0   \n",
      "24  train_Client_0   2006-06-23          11       1335667.0              0   \n",
      "25  train_Client_0   2006-10-18          11       1335667.0              0   \n",
      "26  train_Client_0   2007-06-27          11       1335667.0              0   \n",
      "27  train_Client_0   2007-10-25          11       1335667.0              0   \n",
      "28  train_Client_0   2007-02-26          11       1335667.0              0   \n",
      "29  train_Client_0   2008-07-28          11       1335667.0              0   \n",
      "30  train_Client_0   2009-01-04          11       1335667.0              0   \n",
      "31  train_Client_0   2009-07-27          11       1335667.0              0   \n",
      "32  train_Client_0   2009-11-24          11       1335667.0              0   \n",
      "33  train_Client_0   2010-03-29          11       1335667.0              0   \n",
      "34  train_Client_0   2008-01-04          11       1335667.0              0   \n",
      "\n",
      "    counter_code  reading_remarque  counter_coefficient  consommation_level_1  \\\n",
      "0            203               8.0                    1                    82   \n",
      "1            203               6.0                    1                  1200   \n",
      "2            203               8.0                    1                   123   \n",
      "3            207               8.0                    1                   102   \n",
      "4            207               9.0                    1                   572   \n",
      "5            207               9.0                    1                   314   \n",
      "6            207               9.0                    1                   541   \n",
      "7            207               9.0                    1                   585   \n",
      "8            203               9.0                    1                  1200   \n",
      "9            203               6.0                    1                  1082   \n",
      "10           203               6.0                    1                   174   \n",
      "11           203               6.0                    1                   628   \n",
      "12           203               6.0                    1                   886   \n",
      "13           203               8.0                    1                   147   \n",
      "14           203               8.0                    1                    99   \n",
      "15           203               8.0                    1                   141   \n",
      "16           207               9.0                    1                   217   \n",
      "17           203               8.0                    1                   292   \n",
      "18           203               6.0                    1                   497   \n",
      "19           203               8.0                    1                    38   \n",
      "20           203               6.0                    1                   278   \n",
      "21           203               6.0                    1                   234   \n",
      "22           203               6.0                    1                   124   \n",
      "23           203               6.0                    1                   141   \n",
      "24           203               6.0                    1                   162   \n",
      "25           203               6.0                    1                   159   \n",
      "26           203               6.0                    1                   240   \n",
      "27           203               6.0                    1                   276   \n",
      "28           203               6.0                    1                   182   \n",
      "29           203               6.0                    1                   171   \n",
      "30           203               6.0                    1                   315   \n",
      "31           203               6.0                    1                   312   \n",
      "32           203               6.0                    1                   267   \n",
      "33           203               6.0                    1                   276   \n",
      "34           203               6.0                    1                   277   \n",
      "\n",
      "    consommation_level_2  consommation_level_3  consommation_level_4  \\\n",
      "0                      0                     0                     0   \n",
      "1                    184                     0                     0   \n",
      "2                      0                     0                     0   \n",
      "3                      0                     0                     0   \n",
      "4                      0                     0                     0   \n",
      "5                      0                     0                     0   \n",
      "6                      0                     0                     0   \n",
      "7                      0                     0                     0   \n",
      "8                    186                     0                     0   \n",
      "9                      0                     0                     0   \n",
      "10                     0                     0                     0   \n",
      "11                     0                     0                     0   \n",
      "12                     0                     0                     0   \n",
      "13                     0                     0                     0   \n",
      "14                     0                     0                     0   \n",
      "15                     0                     0                     0   \n",
      "16                     0                     0                     0   \n",
      "17                     0                     0                     0   \n",
      "18                     0                     0                     0   \n",
      "19                     0                     0                     0   \n",
      "20                     0                     0                     0   \n",
      "21                     0                     0                     0   \n",
      "22                     0                     0                     0   \n",
      "23                     0                     0                     0   \n",
      "24                     0                     0                     0   \n",
      "25                     0                     0                     0   \n",
      "26                     0                     0                     0   \n",
      "27                     0                     0                     0   \n",
      "28                     0                     0                     0   \n",
      "29                     0                     0                     0   \n",
      "30                     0                     0                     0   \n",
      "31                     0                     0                     0   \n",
      "32                     0                     0                     0   \n",
      "33                     0                     0                     0   \n",
      "34                     0                     0                     0   \n",
      "\n",
      "    old_index  new_index  months_number counter_type  \n",
      "0       14302      14384              4         ELEC  \n",
      "1       12294      13678              4         ELEC  \n",
      "2       14624      14747              4         ELEC  \n",
      "3       14747      14849              4         ELEC  \n",
      "4       15066      15638             12         ELEC  \n",
      "5       15638      15952              8         ELEC  \n",
      "6       15952      16493             12         ELEC  \n",
      "7       16493      17078              8         ELEC  \n",
      "8        7770       9156              4         ELEC  \n",
      "9        9156      10238              4         ELEC  \n",
      "10       5417       5591              4         ELEC  \n",
      "11      10780      11408              4         ELEC  \n",
      "12      11408      12294              4         ELEC  \n",
      "13      13983      14130              4         ELEC  \n",
      "14      14384      14483              4         ELEC  \n",
      "15      14483      14624              4         ELEC  \n",
      "16      14849      15066              4         ELEC  \n",
      "17      10488      10780              4         ELEC  \n",
      "18       7273       7770              4         ELEC  \n",
      "19      14264      14302              2         ELEC  \n",
      "20       6761       7039              4         ELEC  \n",
      "21       7039       7273              4         ELEC  \n",
      "22       3685       3809              4         ELEC  \n",
      "23       3809       3950              4         ELEC  \n",
      "24       3950       4112              4         ELEC  \n",
      "25       4112       4271              4         ELEC  \n",
      "26       4453       4693              4         ELEC  \n",
      "27       4693       4969              4         ELEC  \n",
      "28       4271       4453              4         ELEC  \n",
      "29       5246       5417              4         ELEC  \n",
      "30       5591       5906              4         ELEC  \n",
      "31       5906       6218              4         ELEC  \n",
      "32       6218       6485              4         ELEC  \n",
      "33       6485       6761              4         ELEC  \n",
      "34       4969       5246              4         ELEC  \n"
     ]
    }
   ],
   "source": [
    "# Select records for the client with id ='train_Client_0'\n",
    "print(\"\\nRecords for client with id ='train_Client_0' using .loc:\")\n",
    "client_0_records_loc = client_0_bills.loc[client_0_bills['client_id'] == 'train_Client_0']\n",
    "print(client_0_records_loc)\n"
   ]
  },
  {
   "cell_type": "code",
   "execution_count": 34,
   "id": "8a5f8d5e-2411-4104-b048-b98d2e6cc723",
   "metadata": {},
   "outputs": [
    {
     "name": "stdout",
     "output_type": "stream",
     "text": [
      "\n",
      "Records for client with id ='train_Client_0' using boolean indexing:\n",
      "         client_id invoice_date  tarif_type  counter_number counter_statue  \\\n",
      "0   train_Client_0   2014-03-24          11       1335667.0              0   \n",
      "1   train_Client_0   2013-03-29          11       1335667.0              0   \n",
      "2   train_Client_0   2015-03-23          11       1335667.0              0   \n",
      "3   train_Client_0   2015-07-13          11       1335667.0              0   \n",
      "4   train_Client_0   2016-11-17          11       1335667.0              0   \n",
      "5   train_Client_0   2017-07-17          11       1335667.0              0   \n",
      "6   train_Client_0   2018-12-07          11       1335667.0              0   \n",
      "7   train_Client_0   2019-03-19          11       1335667.0              0   \n",
      "8   train_Client_0   2011-07-22          11       1335667.0              0   \n",
      "9   train_Client_0   2011-11-22          11       1335667.0              0   \n",
      "10  train_Client_0   2008-11-25          11       1335667.0              0   \n",
      "11  train_Client_0   2012-07-23          11       1335667.0              0   \n",
      "12  train_Client_0   2012-11-29          11       1335667.0              0   \n",
      "13  train_Client_0   2013-07-22          11       1335667.0              0   \n",
      "14  train_Client_0   2014-07-18          11       1335667.0              0   \n",
      "15  train_Client_0   2014-11-24          11       1335667.0              0   \n",
      "16  train_Client_0   2015-11-18          11       1335667.0              0   \n",
      "17  train_Client_0   2012-03-27          11       1335667.0              0   \n",
      "18  train_Client_0   2011-03-30          11       1335667.0              0   \n",
      "19  train_Client_0   2013-02-12          11       1335667.0              0   \n",
      "20  train_Client_0   2010-07-22          11       1335667.0              0   \n",
      "21  train_Client_0   2010-11-24          11       1335667.0              0   \n",
      "22  train_Client_0   2005-10-17          11       1335667.0              0   \n",
      "23  train_Client_0   2006-02-24          11       1335667.0              0   \n",
      "24  train_Client_0   2006-06-23          11       1335667.0              0   \n",
      "25  train_Client_0   2006-10-18          11       1335667.0              0   \n",
      "26  train_Client_0   2007-06-27          11       1335667.0              0   \n",
      "27  train_Client_0   2007-10-25          11       1335667.0              0   \n",
      "28  train_Client_0   2007-02-26          11       1335667.0              0   \n",
      "29  train_Client_0   2008-07-28          11       1335667.0              0   \n",
      "30  train_Client_0   2009-01-04          11       1335667.0              0   \n",
      "31  train_Client_0   2009-07-27          11       1335667.0              0   \n",
      "32  train_Client_0   2009-11-24          11       1335667.0              0   \n",
      "33  train_Client_0   2010-03-29          11       1335667.0              0   \n",
      "34  train_Client_0   2008-01-04          11       1335667.0              0   \n",
      "\n",
      "    counter_code  reading_remarque  counter_coefficient  consommation_level_1  \\\n",
      "0            203               8.0                    1                    82   \n",
      "1            203               6.0                    1                  1200   \n",
      "2            203               8.0                    1                   123   \n",
      "3            207               8.0                    1                   102   \n",
      "4            207               9.0                    1                   572   \n",
      "5            207               9.0                    1                   314   \n",
      "6            207               9.0                    1                   541   \n",
      "7            207               9.0                    1                   585   \n",
      "8            203               9.0                    1                  1200   \n",
      "9            203               6.0                    1                  1082   \n",
      "10           203               6.0                    1                   174   \n",
      "11           203               6.0                    1                   628   \n",
      "12           203               6.0                    1                   886   \n",
      "13           203               8.0                    1                   147   \n",
      "14           203               8.0                    1                    99   \n",
      "15           203               8.0                    1                   141   \n",
      "16           207               9.0                    1                   217   \n",
      "17           203               8.0                    1                   292   \n",
      "18           203               6.0                    1                   497   \n",
      "19           203               8.0                    1                    38   \n",
      "20           203               6.0                    1                   278   \n",
      "21           203               6.0                    1                   234   \n",
      "22           203               6.0                    1                   124   \n",
      "23           203               6.0                    1                   141   \n",
      "24           203               6.0                    1                   162   \n",
      "25           203               6.0                    1                   159   \n",
      "26           203               6.0                    1                   240   \n",
      "27           203               6.0                    1                   276   \n",
      "28           203               6.0                    1                   182   \n",
      "29           203               6.0                    1                   171   \n",
      "30           203               6.0                    1                   315   \n",
      "31           203               6.0                    1                   312   \n",
      "32           203               6.0                    1                   267   \n",
      "33           203               6.0                    1                   276   \n",
      "34           203               6.0                    1                   277   \n",
      "\n",
      "    consommation_level_2  consommation_level_3  consommation_level_4  \\\n",
      "0                      0                     0                     0   \n",
      "1                    184                     0                     0   \n",
      "2                      0                     0                     0   \n",
      "3                      0                     0                     0   \n",
      "4                      0                     0                     0   \n",
      "5                      0                     0                     0   \n",
      "6                      0                     0                     0   \n",
      "7                      0                     0                     0   \n",
      "8                    186                     0                     0   \n",
      "9                      0                     0                     0   \n",
      "10                     0                     0                     0   \n",
      "11                     0                     0                     0   \n",
      "12                     0                     0                     0   \n",
      "13                     0                     0                     0   \n",
      "14                     0                     0                     0   \n",
      "15                     0                     0                     0   \n",
      "16                     0                     0                     0   \n",
      "17                     0                     0                     0   \n",
      "18                     0                     0                     0   \n",
      "19                     0                     0                     0   \n",
      "20                     0                     0                     0   \n",
      "21                     0                     0                     0   \n",
      "22                     0                     0                     0   \n",
      "23                     0                     0                     0   \n",
      "24                     0                     0                     0   \n",
      "25                     0                     0                     0   \n",
      "26                     0                     0                     0   \n",
      "27                     0                     0                     0   \n",
      "28                     0                     0                     0   \n",
      "29                     0                     0                     0   \n",
      "30                     0                     0                     0   \n",
      "31                     0                     0                     0   \n",
      "32                     0                     0                     0   \n",
      "33                     0                     0                     0   \n",
      "34                     0                     0                     0   \n",
      "\n",
      "    old_index  new_index  months_number counter_type  \n",
      "0       14302      14384              4         ELEC  \n",
      "1       12294      13678              4         ELEC  \n",
      "2       14624      14747              4         ELEC  \n",
      "3       14747      14849              4         ELEC  \n",
      "4       15066      15638             12         ELEC  \n",
      "5       15638      15952              8         ELEC  \n",
      "6       15952      16493             12         ELEC  \n",
      "7       16493      17078              8         ELEC  \n",
      "8        7770       9156              4         ELEC  \n",
      "9        9156      10238              4         ELEC  \n",
      "10       5417       5591              4         ELEC  \n",
      "11      10780      11408              4         ELEC  \n",
      "12      11408      12294              4         ELEC  \n",
      "13      13983      14130              4         ELEC  \n",
      "14      14384      14483              4         ELEC  \n",
      "15      14483      14624              4         ELEC  \n",
      "16      14849      15066              4         ELEC  \n",
      "17      10488      10780              4         ELEC  \n",
      "18       7273       7770              4         ELEC  \n",
      "19      14264      14302              2         ELEC  \n",
      "20       6761       7039              4         ELEC  \n",
      "21       7039       7273              4         ELEC  \n",
      "22       3685       3809              4         ELEC  \n",
      "23       3809       3950              4         ELEC  \n",
      "24       3950       4112              4         ELEC  \n",
      "25       4112       4271              4         ELEC  \n",
      "26       4453       4693              4         ELEC  \n",
      "27       4693       4969              4         ELEC  \n",
      "28       4271       4453              4         ELEC  \n",
      "29       5246       5417              4         ELEC  \n",
      "30       5591       5906              4         ELEC  \n",
      "31       5906       6218              4         ELEC  \n",
      "32       6218       6485              4         ELEC  \n",
      "33       6485       6761              4         ELEC  \n",
      "34       4969       5246              4         ELEC  \n"
     ]
    }
   ],
   "source": [
    "print(\"\\nRecords for client with id ='train_Client_0' using boolean indexing:\")\n",
    "client_0_records_indexing = client_0_bills[client_0_bills['client_id'] == 'train_Client_0']\n",
    "print(client_0_records_indexing)\n"
   ]
  },
  {
   "cell_type": "code",
   "execution_count": 35,
   "id": "ea67db36-40ed-448d-95f5-f4d4d0f2698c",
   "metadata": {},
   "outputs": [],
   "source": [
    "# Transform the 'counter_type' feature to a numeric variable using label encoding\n",
    "from sklearn.preprocessing import LabelEncoder\n",
    "\n",
    "label_encoder = LabelEncoder()\n",
    "client_0_bills['counter_type_encoded'] = label_encoder.fit_transform(client_0_bills['counter_type'])\n",
    "\n"
   ]
  },
  {
   "cell_type": "code",
   "execution_count": 36,
   "id": "7711bb4f-126a-4ce1-a6f7-2c0eb30d29b1",
   "metadata": {},
   "outputs": [],
   "source": [
    "# Delete the 'counter_statue' feature\n",
    "client_0_bills = client_0_bills.drop(columns=['counter_statue'])\n"
   ]
  },
  {
   "cell_type": "code",
   "execution_count": 37,
   "id": "0bb06ea7-a73e-49b0-9b6a-ab197833594b",
   "metadata": {},
   "outputs": [
    {
     "name": "stdout",
     "output_type": "stream",
     "text": [
      "\n",
      "DataFrame after dropping 'counter_statue' column:\n",
      "        client_id invoice_date  tarif_type  counter_number  counter_code  \\\n",
      "0  train_Client_0   2014-03-24          11       1335667.0           203   \n",
      "1  train_Client_0   2013-03-29          11       1335667.0           203   \n",
      "2  train_Client_0   2015-03-23          11       1335667.0           203   \n",
      "3  train_Client_0   2015-07-13          11       1335667.0           207   \n",
      "4  train_Client_0   2016-11-17          11       1335667.0           207   \n",
      "\n",
      "   reading_remarque  counter_coefficient  consommation_level_1  \\\n",
      "0               8.0                    1                    82   \n",
      "1               6.0                    1                  1200   \n",
      "2               8.0                    1                   123   \n",
      "3               8.0                    1                   102   \n",
      "4               9.0                    1                   572   \n",
      "\n",
      "   consommation_level_2  consommation_level_3  consommation_level_4  \\\n",
      "0                     0                     0                     0   \n",
      "1                   184                     0                     0   \n",
      "2                     0                     0                     0   \n",
      "3                     0                     0                     0   \n",
      "4                     0                     0                     0   \n",
      "\n",
      "   old_index  new_index  months_number counter_type  counter_type_encoded  \n",
      "0      14302      14384              4         ELEC                     0  \n",
      "1      12294      13678              4         ELEC                     0  \n",
      "2      14624      14747              4         ELEC                     0  \n",
      "3      14747      14849              4         ELEC                     0  \n",
      "4      15066      15638             12         ELEC                     0  \n"
     ]
    }
   ],
   "source": [
    "print(\"\\nDataFrame after dropping 'counter_statue' column:\")\n",
    "print(client_0_bills.head())\n"
   ]
  },
  {
   "cell_type": "code",
   "execution_count": 38,
   "id": "bf2fdaca-16ae-41cc-8485-1ebb62145fc4",
   "metadata": {},
   "outputs": [
    {
     "ename": "SyntaxError",
     "evalue": "Missing parentheses in call to 'print'. Did you mean print(...)? (2738942507.py, line 1)",
     "output_type": "error",
     "traceback": [
      "\u001b[1;36m  Cell \u001b[1;32mIn[38], line 1\u001b[1;36m\u001b[0m\n\u001b[1;33m    print client_0_bills.head()\u001b[0m\n\u001b[1;37m    ^\u001b[0m\n\u001b[1;31mSyntaxError\u001b[0m\u001b[1;31m:\u001b[0m Missing parentheses in call to 'print'. Did you mean print(...)?\n"
     ]
    }
   ],
   "source": [
    "print (client_0_bills.head())"
   ]
  },
  {
   "cell_type": "code",
   "execution_count": null,
   "id": "83a98404-8202-449c-bae8-c098ffc38bf3",
   "metadata": {},
   "outputs": [],
   "source": []
  }
 ],
 "metadata": {
  "kernelspec": {
   "display_name": "Python 3 (ipykernel)",
   "language": "python",
   "name": "python3"
  },
  "language_info": {
   "codemirror_mode": {
    "name": "ipython",
    "version": 3
   },
   "file_extension": ".py",
   "mimetype": "text/x-python",
   "name": "python",
   "nbconvert_exporter": "python",
   "pygments_lexer": "ipython3",
   "version": "3.12.4"
  }
 },
 "nbformat": 4,
 "nbformat_minor": 5
}
