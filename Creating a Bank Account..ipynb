{
 "cells": [
  {
   "cell_type": "code",
   "execution_count": 1,
   "id": "5d9e72f3-7a42-477e-95ab-dbd02475c4e1",
   "metadata": {},
   "outputs": [],
   "source": [
    "# bank_account.py"
   ]
  },
  {
   "cell_type": "code",
   "execution_count": 2,
   "id": "73d21f26-e487-4734-8aef-3e1f2b80529c",
   "metadata": {},
   "outputs": [],
   "source": [
    "class Account:\n",
    "    def __init__(self, account_number: str, account_balance: float, account_holder: str):\n",
    "        self.account_number = account_number\n",
    "        self.account_balance = account_balance\n",
    "        self.account_holder = account_holder\n"
   ]
  },
  {
   "cell_type": "code",
   "execution_count": 3,
   "id": "c352e96e-7722-4412-9ae8-77356efadf71",
   "metadata": {},
   "outputs": [],
   "source": [
    "def deposit(self, amount: float):\n",
    "        if amount > 0:\n",
    "            self.account_balance += amount\n",
    "            print(f\"Deposited ${amount}. New balance is ${self.account_balance}.\")\n",
    "        else:\n",
    "            print(\"Deposit amount must be positive.\")\n",
    "\n"
   ]
  },
  {
   "cell_type": "code",
   "execution_count": 4,
   "id": "187d4c60-421b-4978-aed6-9b07a646aa73",
   "metadata": {},
   "outputs": [],
   "source": [
    "def withdraw(self, amount: float):\n",
    "        if amount > 0:\n",
    "            if self.account_balance >= amount:\n",
    "                self.account_balance -= amount\n",
    "                print(f\"Withdrew ${amount}. New balance is ${self.account_balance}.\")\n",
    "            else:\n",
    "                print(\"Insufficient funds.\")\n",
    "        else:\n",
    "            print(\"Withdrawal amount must be positive.\")\n",
    "\n"
   ]
  },
  {
   "cell_type": "code",
   "execution_count": 5,
   "id": "48f44030-5876-426d-a1fd-532cb5d852db",
   "metadata": {},
   "outputs": [],
   "source": [
    "def check_balance(self):\n",
    "        return self.account_balance\n",
    "\n"
   ]
  },
  {
   "cell_type": "code",
   "execution_count": 6,
   "id": "10de9b44-34e9-4d63-b4af-284a537aa0e2",
   "metadata": {},
   "outputs": [],
   "source": [
    "# Test the Account class\n",
    "\n",
    "def test_account():\n",
    "    # Create instances of Account\n",
    "    my_account = Account(\"123456\", 1000.0, \"John Doe\")\n",
    "    another_account = Account(\"654321\", 500.0, \"Jane Smith\")\n",
    "    \n"
   ]
  },
  {
   "cell_type": "code",
   "execution_count": null,
   "id": "985b430d-b1eb-4ed6-aeb2-6c79f1034503",
   "metadata": {},
   "outputs": [],
   "source": [
    "# Display initial balances\n",
    "    print(f\"{my_account.account_holder}'s balance: ${my_account.check_balance()}\")\n",
    "    print(f\"{another_account.account_holder}'s balance: ${another_account.check_balance()}\")\n",
    "\n",
    "    # Deposit money\n",
    "    my_account.deposit(200)\n",
    "    another_account.deposit(150)\n",
    "\n",
    "    # Withdraw money\n",
    "    my_account.withdraw(50)\n",
    "    another_account.withdraw(600)  # This should show insufficient funds\n",
    "\n",
    "    # Check balances again\n",
    "    print(f\"{my_account.account_holder}'s balance: ${my_account.check_balance()}\")\n",
    "    print(f\"{another_account.account_holder}'s balance: ${another_account.check_balance()}\")\n",
    "\n",
    "# Uncomment the following line to test the class directly if running this file\n",
    "# test_account()\n"
   ]
  }
 ],
 "metadata": {
  "kernelspec": {
   "display_name": "Python 3 (ipykernel)",
   "language": "python",
   "name": "python3"
  },
  "language_info": {
   "codemirror_mode": {
    "name": "ipython",
    "version": 3
   },
   "file_extension": ".py",
   "mimetype": "text/x-python",
   "name": "python",
   "nbconvert_exporter": "python",
   "pygments_lexer": "ipython3",
   "version": "3.12.4"
  }
 },
 "nbformat": 4,
 "nbformat_minor": 5
}
