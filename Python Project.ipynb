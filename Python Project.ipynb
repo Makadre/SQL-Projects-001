{
 "cells": [
  {
   "cell_type": "code",
   "execution_count": 1,
   "id": "98a8e230-e37f-4261-bb93-a151ab28ad9f",
   "metadata": {},
   "outputs": [],
   "source": [
    "import random\n",
    "import time\n"
   ]
  },
  {
   "cell_type": "code",
   "execution_count": 3,
   "id": "a93ed8af-22b2-42c0-8129-852d8d06d3f9",
   "metadata": {},
   "outputs": [],
   "source": [
    "# Sample questions\n",
    "questions = [\n",
    "    {\n",
    "        \"question\": \"What is the capital of France?\",\n",
    "        \"options\": [\"A) London\", \"B) Paris\", \"C) Berlin\", \"D) Madrid\"],\n",
    "        \"answer\": \"B\"\n",
    "    },\n",
    "    {\n",
    "        \"question\": \"What is 2 + 2?\",\n",
    "        \"options\": [\"A) 3\", \"B) 4\", \"C) 5\", \"D) 6\"],\n",
    "        \"answer\": \"B\"\n",
    "    },\n",
    "    {\n",
    "        \"question\": \"What is the largest ocean on Earth?\",\n",
    "        \"options\": [\"A) Atlantic\", \"B) Indian\", \"C) Arctic\", \"D) Pacific\"],\n",
    "        \"answer\": \"D\"\n",
    "    },\n",
    "    {\n",
    "        \"question\": \"Who wrote 'Romeo and Juliet'?\",\n",
    "        \"options\": [\"A) Charles Dickens\", \"B) Mark Twain\", \"C) William Shakespeare\", \"D) J.K. Rowling\"],\n",
    "        \"answer\": \"C\"\n",
    "    }\n",
    "]\n"
   ]
  },
  {
   "cell_type": "code",
   "execution_count": 5,
   "id": "4f22d75b-5a48-41db-aa53-285a71e7b086",
   "metadata": {},
   "outputs": [],
   "source": [
    "def quiz():\n",
    "    random.shuffle(questions)\n",
    "    score = 0\n",
    "\n",
    "    for q in questions:\n",
    "        print(q[\"question\"])\n",
    "        for option in q[\"options\"]:\n",
    "            print(option)\n",
    "\n",
    "        start_time = time.time()\n",
    "        user_answer = input(\"Your answer (A, B, C, D): \").strip().upper()\n",
    "        end_time = time.time()\n"
   ]
  },
  {
   "cell_type": "code",
   "execution_count": 26,
   "id": "579815e0-3423-48d8-8942-922c5cf799c4",
   "metadata": {},
   "outputs": [
    {
     "ename": "IndentationError",
     "evalue": "expected an indented block after 'if' statement on line 2 (3410416955.py, line 3)",
     "output_type": "error",
     "traceback": [
      "\u001b[1;36m  Cell \u001b[1;32mIn[26], line 3\u001b[1;36m\u001b[0m\n\u001b[1;33m    print(\"Correct!\\n\")\u001b[0m\n\u001b[1;37m    ^\u001b[0m\n\u001b[1;31mIndentationError\u001b[0m\u001b[1;31m:\u001b[0m expected an indented block after 'if' statement on line 2\n"
     ]
    }
   ],
   "source": [
    "        # Timer - 10 seconds limit\n",
    "        if {'user_answer' == q[\"answer\"]:\n",
    "        print(\"Correct!\\n\")\n",
    "        score += 1\n",
    "        else:\n",
    "            print(f\"Incorrect! The correct answer was {q['answer']}.\\n\")\n",
    "\n",
    "        print(f\"Your final score is: {score}/{len(questions)}\")\n",
    "\n",
    "if __name__ == \"__main__\":\n",
    "    quiz()\n",
    "\n",
    "\n",
    "     "
   ]
  },
  {
   "cell_type": "code",
   "execution_count": null,
   "id": "7d052efb-8c2e-47f9-811b-544e72066206",
   "metadata": {},
   "outputs": [],
   "source": []
  }
 ],
 "metadata": {
  "kernelspec": {
   "display_name": "Python 3 (ipykernel)",
   "language": "python",
   "name": "python3"
  },
  "language_info": {
   "codemirror_mode": {
    "name": "ipython",
    "version": 3
   },
   "file_extension": ".py",
   "mimetype": "text/x-python",
   "name": "python",
   "nbconvert_exporter": "python",
   "pygments_lexer": "ipython3",
   "version": "3.12.4"
  }
 },
 "nbformat": 4,
 "nbformat_minor": 5
}
