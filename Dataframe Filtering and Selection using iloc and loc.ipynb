{
 "cells": [
  {
   "cell_type": "code",
   "execution_count": 1,
   "id": "06732d3e-e236-4da0-9a46-3e5d431a3e4f",
   "metadata": {},
   "outputs": [],
   "source": [
    "import pandas as pd"
   ]
  },
  {
   "cell_type": "code",
   "execution_count": 2,
   "id": "690d98ce-2c1b-4c0d-b9aa-619fe070225f",
   "metadata": {},
   "outputs": [],
   "source": [
    "# Create the DataFrame\n",
    "data = {\n",
    "    'Name': ['John', 'Mary', 'Bob', 'Sarah', 'Tom', 'Lisa'],\n",
    "    'Department': ['IT', 'Marketing', 'Sales', 'IT', 'Finance', 'Marketing'],\n",
    "    'Age': [30, 40, 25, 35, 45, 28],\n",
    "    'Gender': ['Male', 'Female', 'Male', 'Female', 'Male', 'Female'],\n",
    "    'Salary': [50000, 60000, 45000, 55000, 70000, 55000],\n",
    "    'Experience': [3, 7, 2, 5, 10, 4]\n",
    "}\n",
    "\n",
    "employee_df = pd.DataFrame(data)\n"
   ]
  },
  {
   "cell_type": "code",
   "execution_count": 3,
   "id": "a71e1f08-ff67-4d55-9457-10bdcdb62229",
   "metadata": {},
   "outputs": [
    {
     "name": "stdout",
     "output_type": "stream",
     "text": [
      "First 3 rows:\n",
      "   Name Department  Age  Gender  Salary  Experience\n",
      "0  John         IT   30    Male   50000           3\n",
      "1  Mary  Marketing   40  Female   60000           7\n",
      "2   Bob      Sales   25    Male   45000           2\n",
      "\n"
     ]
    }
   ],
   "source": [
    "# Use iloc to select the first 3 rows of the DataFrame\n",
    "first_3_rows = employee_df.iloc[:3]\n",
    "print(\"First 3 rows:\")\n",
    "print(first_3_rows)\n",
    "print()\n",
    "\n"
   ]
  },
  {
   "cell_type": "code",
   "execution_count": 4,
   "id": "7505cd4a-fb91-466e-9916-f46238d0b541",
   "metadata": {},
   "outputs": [
    {
     "name": "stdout",
     "output_type": "stream",
     "text": [
      "Rows where Department is 'Marketing':\n",
      "   Name Department  Age  Gender  Salary  Experience\n",
      "1  Mary  Marketing   40  Female   60000           7\n",
      "5  Lisa  Marketing   28  Female   55000           4\n",
      "\n"
     ]
    }
   ],
   "source": [
    "# Use loc to select all rows where the Department is \"Marketing\"\n",
    "marketing_department = employee_df.loc[employee_df['Department'] == 'Marketing']\n",
    "print(\"Rows where Department is 'Marketing':\")\n",
    "print(marketing_department)\n",
    "print()\n"
   ]
  },
  {
   "cell_type": "code",
   "execution_count": 5,
   "id": "88effe16-e611-4548-b51a-2beb49501ecb",
   "metadata": {},
   "outputs": [
    {
     "name": "stdout",
     "output_type": "stream",
     "text": [
      "Age and Gender columns for the first 4 rows:\n",
      "   Age  Gender\n",
      "0   30    Male\n",
      "1   40  Female\n",
      "2   25    Male\n",
      "3   35  Female\n",
      "\n"
     ]
    }
   ],
   "source": [
    "# Use iloc to select the Age and Gender columns for the first 4 rows\n",
    "age_gender_first_4_rows = employee_df.iloc[:4, [2, 3]]\n",
    "print(\"Age and Gender columns for the first 4 rows:\")\n",
    "print(age_gender_first_4_rows)\n",
    "print()\n"
   ]
  },
  {
   "cell_type": "code",
   "execution_count": 6,
   "id": "3536b6d5-f8f8-4e49-ad28-d38f4e159ee3",
   "metadata": {},
   "outputs": [
    {
     "name": "stdout",
     "output_type": "stream",
     "text": [
      "Salary and Experience columns for all rows where Gender is 'Male':\n",
      "   Salary  Experience\n",
      "0   50000           3\n",
      "2   45000           2\n",
      "4   70000          10\n"
     ]
    }
   ],
   "source": [
    "# Use loc to select the Salary and Experience columns for all rows where the Gender is \"Male\"\n",
    "salary_experience_male = employee_df.loc[employee_df['Gender'] == 'Male', ['Salary', 'Experience']]\n",
    "print(\"Salary and Experience columns for all rows where Gender is 'Male':\")\n",
    "print(salary_experience_male)\n",
    "\n"
   ]
  },
  {
   "cell_type": "code",
   "execution_count": null,
   "id": "097a88d9-d3ab-4e73-9626-dbc915a4f3e4",
   "metadata": {},
   "outputs": [],
   "source": []
  }
 ],
 "metadata": {
  "kernelspec": {
   "display_name": "Python 3 (ipykernel)",
   "language": "python",
   "name": "python3"
  },
  "language_info": {
   "codemirror_mode": {
    "name": "ipython",
    "version": 3
   },
   "file_extension": ".py",
   "mimetype": "text/x-python",
   "name": "python",
   "nbconvert_exporter": "python",
   "pygments_lexer": "ipython3",
   "version": "3.12.4"
  }
 },
 "nbformat": 4,
 "nbformat_minor": 5
}
